{
 "cells": [
  {
   "cell_type": "markdown",
   "metadata": {},
   "source": [
    "## Runtime"
   ]
  },
  {
   "cell_type": "code",
   "execution_count": 1,
   "metadata": {
    "colab": {
     "base_uri": "https://localhost:8080/"
    },
    "id": "m9LNaUOTmVOn",
    "outputId": "e55f69b8-111f-4617-ceeb-cd531f2ec44d"
   },
   "outputs": [],
   "source": [
    "import sys\n",
    "\n",
    "#if True, will install via pypi, else will install from source\n",
    "stable = True\n",
    "\n",
    "IN_COLAB = \"google.colab\" in sys.modules\n",
    "\n",
    "if IN_COLAB:\n",
    "    !pip install --quiet scvi-tools[tutorials]==0.9.1"
   ]
  },
  {
   "cell_type": "code",
   "execution_count": 2,
   "metadata": {
    "colab": {
     "base_uri": "https://localhost:8080/",
     "height": 103
    },
    "id": "-P-Iw9lHmj6U",
    "outputId": "03a1607b-e9a2-4a8a-9b47-db8ca67777e2"
   },
   "outputs": [],
   "source": [
    "if IN_COLAB:\n",
    "    import gdown\n",
    "    url = 'https://drive.google.com/uc?id=1tJSOI9ve0i78WmszMLx2ul8F8tGycBTd'\n",
    "    output = 'FL_celltype.csv'\n",
    "    gdown.download(url, output, quiet=False)"
   ]
  },
  {
   "cell_type": "code",
   "execution_count": 3,
   "metadata": {
    "id": "TqUagzYDmqfY"
   },
   "outputs": [],
   "source": [
    "import scvi\n",
    "import scanpy as sc\n",
    "import pandas as pd\n",
    "import seaborn as sns\n",
    "import numpy as np\n",
    "import time"
   ]
  },
  {
   "cell_type": "code",
   "execution_count": 4,
   "metadata": {
    "colab": {
     "base_uri": "https://localhost:8080/"
    },
    "id": "Wz5Xirboms90",
    "outputId": "0ea6caad-abe7-4aa8-cf32-05b84a87e40b"
   },
   "outputs": [
    {
     "name": "stdout",
     "output_type": "stream",
     "text": [
      "\u001b[34mINFO    \u001b[0m Downloading file at data/10X/fresh_68k_pbmc_donor_a/filtered_gene_bc_matrices.tar.gz\n",
      "Downloading...: 100%|██████████| 124443/124443.0 [00:02<00:00, 45794.69it/s]\n",
      "\u001b[34mINFO    \u001b[0m Extracting tar file                                                                 \n"
     ]
    }
   ],
   "source": [
    "adata = scvi.data.dataset_10x(\"fresh_68k_pbmc_donor_a\")\n",
    "adata.var_names_make_unique()\n",
    "adata.obs_names_make_unique()"
   ]
  },
  {
   "cell_type": "code",
   "execution_count": 5,
   "metadata": {
    "id": "iSYXFs7_mvGi"
   },
   "outputs": [],
   "source": [
    "marker_gene_mat = pd.read_csv('data/FL_celltype.csv', index_col=0)"
   ]
  },
  {
   "cell_type": "code",
   "execution_count": 6,
   "metadata": {
    "id": "Xn3D7B3cpIEr"
   },
   "outputs": [],
   "source": [
    "marker_gene_mat = marker_gene_mat.drop(index='TRAC')"
   ]
  },
  {
   "cell_type": "code",
   "execution_count": 7,
   "metadata": {
    "colab": {
     "base_uri": "https://localhost:8080/"
    },
    "id": "FwM3lWf5mxQe",
    "outputId": "a0208c12-22a0-4310-ad3f-0e131790a6aa"
   },
   "outputs": [
    {
     "name": "stdout",
     "output_type": "stream",
     "text": [
      "\u001b[34mINFO    \u001b[0m No batch_key inputted, assuming all cells are same batch                            \n",
      "\u001b[34mINFO    \u001b[0m No label_key inputted, assuming all cells have same label                           \n",
      "\u001b[34mINFO    \u001b[0m Using data from adata.X                                                             \n",
      "\u001b[34mINFO    \u001b[0m Computing library size prior per batch                                              \n",
      "\u001b[31mWARNING \u001b[0m This dataset has some empty cells, this might fail inference.Data should be filtered\n",
      "         with `scanpy.pp.filter_cells\u001b[1m(\u001b[0m\u001b[1m)\u001b[0m`                                                     \n",
      "\u001b[34mINFO    \u001b[0m Successfully registered anndata object containing \u001b[1;34m68579\u001b[0m cells, \u001b[1;34m23\u001b[0m vars, \u001b[1;34m1\u001b[0m batches, \u001b[1;34m1\u001b[0m\n",
      "         labels, and \u001b[1;34m0\u001b[0m proteins. Also registered \u001b[1;34m0\u001b[0m extra categorical covariates and \u001b[1;34m0\u001b[0m extra  \n",
      "         continuous covariates.                                                              \n",
      "\u001b[34mINFO    \u001b[0m Please do not further modify adata until model is trained.                          \n"
     ]
    }
   ],
   "source": [
    "bdata = adata[:, marker_gene_mat.index].copy()\n",
    "scvi.data.setup_anndata(bdata)"
   ]
  },
  {
   "cell_type": "code",
   "execution_count": 10,
   "metadata": {
    "colab": {
     "base_uri": "https://localhost:8080/",
     "height": 402
    },
    "id": "5630VCrencB8",
    "outputId": "a6862025-48c4-42d1-8e7f-6ca2016d6074"
   },
   "outputs": [
    {
     "name": "stdout",
     "output_type": "stream",
     "text": [
      "\u001b[34mINFO    \u001b[0m No batch_key inputted, assuming all cells are same batch                            \n",
      "\u001b[34mINFO    \u001b[0m No label_key inputted, assuming all cells have same label                           \n",
      "\u001b[34mINFO    \u001b[0m Using data from adata.X                                                             \n",
      "\u001b[34mINFO    \u001b[0m Computing library size prior per batch                                              \n",
      "\u001b[31mWARNING \u001b[0m This dataset has some empty cells, this might fail inference.Data should be filtered\n",
      "         with `scanpy.pp.filter_cells\u001b[1m(\u001b[0m\u001b[1m)\u001b[0m`                                                     \n",
      "\u001b[34mINFO    \u001b[0m Successfully registered anndata object containing \u001b[1;34m68579\u001b[0m cells, \u001b[1;34m23\u001b[0m vars, \u001b[1;34m1\u001b[0m batches, \u001b[1;34m1\u001b[0m\n",
      "         labels, and \u001b[1;34m0\u001b[0m proteins. Also registered \u001b[1;34m0\u001b[0m extra categorical covariates and \u001b[1;34m0\u001b[0m extra  \n",
      "         continuous covariates.                                                              \n",
      "\u001b[34mINFO    \u001b[0m Please do not further modify adata until model is trained.                          \n"
     ]
    },
    {
     "name": "stderr",
     "output_type": "stream",
     "text": [
      "GPU available: True, used: True\n",
      "TPU available: None, using: 0 TPU cores\n"
     ]
    },
    {
     "name": "stdout",
     "output_type": "stream",
     "text": [
      "Epoch 340/400:  85%|████████▌ | 340/400 [01:54<00:20,  2.97it/s, loss=72.4, v_num=1]\n",
      "114.59993028640747\n",
      "\u001b[34mINFO    \u001b[0m No batch_key inputted, assuming all cells are same batch                            \n",
      "\u001b[34mINFO    \u001b[0m No label_key inputted, assuming all cells have same label                           \n",
      "\u001b[34mINFO    \u001b[0m Using data from adata.X                                                             \n",
      "\u001b[34mINFO    \u001b[0m Computing library size prior per batch                                              \n",
      "\u001b[31mWARNING \u001b[0m This dataset has some empty cells, this might fail inference.Data should be filtered\n",
      "         with `scanpy.pp.filter_cells\u001b[1m(\u001b[0m\u001b[1m)\u001b[0m`                                                     \n",
      "\u001b[34mINFO    \u001b[0m Successfully registered anndata object containing \u001b[1;34m34289\u001b[0m cells, \u001b[1;34m23\u001b[0m vars, \u001b[1;34m1\u001b[0m batches, \u001b[1;34m1\u001b[0m\n",
      "         labels, and \u001b[1;34m0\u001b[0m proteins. Also registered \u001b[1;34m0\u001b[0m extra categorical covariates and \u001b[1;34m0\u001b[0m extra  \n",
      "         continuous covariates.                                                              \n",
      "\u001b[34mINFO    \u001b[0m Please do not further modify adata until model is trained.                          \n"
     ]
    },
    {
     "name": "stderr",
     "output_type": "stream",
     "text": [
      "GPU available: True, used: True\n",
      "TPU available: None, using: 0 TPU cores\n"
     ]
    },
    {
     "name": "stdout",
     "output_type": "stream",
     "text": [
      "Epoch 282/400:  70%|███████   | 282/400 [00:48<00:20,  5.84it/s, loss=77.4, v_num=1]\n",
      "48.27886652946472\n",
      "\u001b[34mINFO    \u001b[0m No batch_key inputted, assuming all cells are same batch                            \n",
      "\u001b[34mINFO    \u001b[0m No label_key inputted, assuming all cells have same label                           \n",
      "\u001b[34mINFO    \u001b[0m Using data from adata.X                                                             \n",
      "\u001b[34mINFO    \u001b[0m Computing library size prior per batch                                              \n",
      "\u001b[31mWARNING \u001b[0m This dataset has some empty cells, this might fail inference.Data should be filtered\n",
      "         with `scanpy.pp.filter_cells\u001b[1m(\u001b[0m\u001b[1m)\u001b[0m`                                                     \n",
      "\u001b[34mINFO    \u001b[0m Successfully registered anndata object containing \u001b[1;34m17144\u001b[0m cells, \u001b[1;34m23\u001b[0m vars, \u001b[1;34m1\u001b[0m batches, \u001b[1;34m1\u001b[0m\n",
      "         labels, and \u001b[1;34m0\u001b[0m proteins. Also registered \u001b[1;34m0\u001b[0m extra categorical covariates and \u001b[1;34m0\u001b[0m extra  \n",
      "         continuous covariates.                                                              \n",
      "\u001b[34mINFO    \u001b[0m Please do not further modify adata until model is trained.                          \n"
     ]
    },
    {
     "name": "stderr",
     "output_type": "stream",
     "text": [
      "GPU available: True, used: True\n",
      "TPU available: None, using: 0 TPU cores\n"
     ]
    },
    {
     "name": "stdout",
     "output_type": "stream",
     "text": [
      "Epoch 400/400: 100%|██████████| 400/400 [00:36<00:00, 11.03it/s, loss=70.4, v_num=1]\n",
      "36.27116823196411\n",
      "\u001b[34mINFO    \u001b[0m No batch_key inputted, assuming all cells are same batch                            \n",
      "\u001b[34mINFO    \u001b[0m No label_key inputted, assuming all cells have same label                           \n",
      "\u001b[34mINFO    \u001b[0m Using data from adata.X                                                             \n",
      "\u001b[34mINFO    \u001b[0m Computing library size prior per batch                                              \n",
      "\u001b[31mWARNING \u001b[0m This dataset has some empty cells, this might fail inference.Data should be filtered\n",
      "         with `scanpy.pp.filter_cells\u001b[1m(\u001b[0m\u001b[1m)\u001b[0m`                                                     \n",
      "\u001b[34mINFO    \u001b[0m Successfully registered anndata object containing \u001b[1;34m8572\u001b[0m cells, \u001b[1;34m23\u001b[0m vars, \u001b[1;34m1\u001b[0m batches, \u001b[1;34m1\u001b[0m \n",
      "         labels, and \u001b[1;34m0\u001b[0m proteins. Also registered \u001b[1;34m0\u001b[0m extra categorical covariates and \u001b[1;34m0\u001b[0m extra  \n",
      "         continuous covariates.                                                              \n",
      "\u001b[34mINFO    \u001b[0m Please do not further modify adata until model is trained.                          \n"
     ]
    },
    {
     "name": "stderr",
     "output_type": "stream",
     "text": [
      "GPU available: True, used: True\n",
      "TPU available: None, using: 0 TPU cores\n"
     ]
    },
    {
     "name": "stdout",
     "output_type": "stream",
     "text": [
      "Epoch 400/400: 100%|██████████| 400/400 [00:19<00:00, 20.88it/s, loss=82.5, v_num=1]\n",
      "19.164595127105713\n",
      "\u001b[34mINFO    \u001b[0m No batch_key inputted, assuming all cells are same batch                            \n",
      "\u001b[34mINFO    \u001b[0m No label_key inputted, assuming all cells have same label                           \n",
      "\u001b[34mINFO    \u001b[0m Using data from adata.X                                                             \n",
      "\u001b[34mINFO    \u001b[0m Computing library size prior per batch                                              \n",
      "\u001b[31mWARNING \u001b[0m This dataset has some empty cells, this might fail inference.Data should be filtered\n",
      "         with `scanpy.pp.filter_cells\u001b[1m(\u001b[0m\u001b[1m)\u001b[0m`                                                     \n",
      "\u001b[34mINFO    \u001b[0m Successfully registered anndata object containing \u001b[1;34m4286\u001b[0m cells, \u001b[1;34m23\u001b[0m vars, \u001b[1;34m1\u001b[0m batches, \u001b[1;34m1\u001b[0m \n",
      "         labels, and \u001b[1;34m0\u001b[0m proteins. Also registered \u001b[1;34m0\u001b[0m extra categorical covariates and \u001b[1;34m0\u001b[0m extra  \n",
      "         continuous covariates.                                                              \n",
      "\u001b[34mINFO    \u001b[0m Please do not further modify adata until model is trained.                          \n"
     ]
    },
    {
     "name": "stderr",
     "output_type": "stream",
     "text": [
      "GPU available: True, used: True\n",
      "TPU available: None, using: 0 TPU cores\n"
     ]
    },
    {
     "name": "stdout",
     "output_type": "stream",
     "text": [
      "Epoch 400/400: 100%|██████████| 400/400 [00:10<00:00, 36.63it/s, loss=81.9, v_num=1]\n",
      "10.929171800613403\n",
      "\u001b[34mINFO    \u001b[0m No batch_key inputted, assuming all cells are same batch                            \n",
      "\u001b[34mINFO    \u001b[0m No label_key inputted, assuming all cells have same label                           \n",
      "\u001b[34mINFO    \u001b[0m Using data from adata.X                                                             \n",
      "\u001b[34mINFO    \u001b[0m Computing library size prior per batch                                              \n",
      "\u001b[31mWARNING \u001b[0m This dataset has some empty cells, this might fail inference.Data should be filtered\n",
      "         with `scanpy.pp.filter_cells\u001b[1m(\u001b[0m\u001b[1m)\u001b[0m`                                                     \n",
      "\u001b[34mINFO    \u001b[0m Successfully registered anndata object containing \u001b[1;34m2143\u001b[0m cells, \u001b[1;34m23\u001b[0m vars, \u001b[1;34m1\u001b[0m batches, \u001b[1;34m1\u001b[0m \n",
      "         labels, and \u001b[1;34m0\u001b[0m proteins. Also registered \u001b[1;34m0\u001b[0m extra categorical covariates and \u001b[1;34m0\u001b[0m extra  \n",
      "         continuous covariates.                                                              \n",
      "\u001b[34mINFO    \u001b[0m Please do not further modify adata until model is trained.                          \n"
     ]
    },
    {
     "name": "stderr",
     "output_type": "stream",
     "text": [
      "GPU available: True, used: True\n",
      "TPU available: None, using: 0 TPU cores\n"
     ]
    },
    {
     "name": "stdout",
     "output_type": "stream",
     "text": [
      "Epoch 400/400: 100%|██████████| 400/400 [00:06<00:00, 58.57it/s, loss=87.4, v_num=1]\n",
      "6.837259292602539\n",
      "\u001b[34mINFO    \u001b[0m No batch_key inputted, assuming all cells are same batch                            \n",
      "\u001b[34mINFO    \u001b[0m No label_key inputted, assuming all cells have same label                           \n",
      "\u001b[34mINFO    \u001b[0m Using data from adata.X                                                             \n",
      "\u001b[34mINFO    \u001b[0m Computing library size prior per batch                                              \n",
      "\u001b[31mWARNING \u001b[0m This dataset has some empty cells, this might fail inference.Data should be filtered\n",
      "         with `scanpy.pp.filter_cells\u001b[1m(\u001b[0m\u001b[1m)\u001b[0m`                                                     \n",
      "\u001b[34mINFO    \u001b[0m Successfully registered anndata object containing \u001b[1;34m1071\u001b[0m cells, \u001b[1;34m23\u001b[0m vars, \u001b[1;34m1\u001b[0m batches, \u001b[1;34m1\u001b[0m \n",
      "         labels, and \u001b[1;34m0\u001b[0m proteins. Also registered \u001b[1;34m0\u001b[0m extra categorical covariates and \u001b[1;34m0\u001b[0m extra  \n",
      "         continuous covariates.                                                              \n",
      "\u001b[34mINFO    \u001b[0m Please do not further modify adata until model is trained.                          \n"
     ]
    },
    {
     "name": "stderr",
     "output_type": "stream",
     "text": [
      "GPU available: True, used: True\n",
      "TPU available: None, using: 0 TPU cores\n"
     ]
    },
    {
     "name": "stdout",
     "output_type": "stream",
     "text": [
      "Epoch 400/400: 100%|██████████| 400/400 [00:04<00:00, 82.95it/s, loss=79.9, v_num=1]\n",
      "4.830204725265503\n"
     ]
    }
   ],
   "source": [
    "num_samples = []\n",
    "times = []\n",
    "n = bdata.n_obs\n",
    "while n > 1000:\n",
    "    cdata = bdata[:n].copy()\n",
    "    scvi.data.setup_anndata(cdata)\n",
    "    start = time.time()\n",
    "    model = scvi.external.CellAssign(cdata, marker_gene_mat, \"n_counts\")\n",
    "    model.train()\n",
    "    end = time.time()\n",
    "    times += [end - start]\n",
    "    num_samples += [cdata.n_obs]\n",
    "    print(end - start)\n",
    "    n = n // 2\n",
    "#     bdata = sc.pp.subsample(bdata, fraction=0.5, copy=True)"
   ]
  },
  {
   "cell_type": "code",
   "execution_count": 11,
   "metadata": {
    "colab": {
     "base_uri": "https://localhost:8080/"
    },
    "id": "WTKaICt5wzGv",
    "outputId": "cb47e9d9-d24a-4bc1-e738-bd77402b59fb"
   },
   "outputs": [
    {
     "data": {
      "text/html": [
       "<div>\n",
       "<style scoped>\n",
       "    .dataframe tbody tr th:only-of-type {\n",
       "        vertical-align: middle;\n",
       "    }\n",
       "\n",
       "    .dataframe tbody tr th {\n",
       "        vertical-align: top;\n",
       "    }\n",
       "\n",
       "    .dataframe thead th {\n",
       "        text-align: right;\n",
       "    }\n",
       "</style>\n",
       "<table border=\"1\" class=\"dataframe\">\n",
       "  <thead>\n",
       "    <tr style=\"text-align: right;\">\n",
       "      <th></th>\n",
       "      <th>n_obs</th>\n",
       "      <th>time</th>\n",
       "    </tr>\n",
       "  </thead>\n",
       "  <tbody>\n",
       "    <tr>\n",
       "      <th>0</th>\n",
       "      <td>68579</td>\n",
       "      <td>114.599930</td>\n",
       "    </tr>\n",
       "    <tr>\n",
       "      <th>1</th>\n",
       "      <td>34289</td>\n",
       "      <td>48.278867</td>\n",
       "    </tr>\n",
       "    <tr>\n",
       "      <th>2</th>\n",
       "      <td>17144</td>\n",
       "      <td>36.271168</td>\n",
       "    </tr>\n",
       "    <tr>\n",
       "      <th>3</th>\n",
       "      <td>8572</td>\n",
       "      <td>19.164595</td>\n",
       "    </tr>\n",
       "    <tr>\n",
       "      <th>4</th>\n",
       "      <td>4286</td>\n",
       "      <td>10.929172</td>\n",
       "    </tr>\n",
       "    <tr>\n",
       "      <th>5</th>\n",
       "      <td>2143</td>\n",
       "      <td>6.837259</td>\n",
       "    </tr>\n",
       "    <tr>\n",
       "      <th>6</th>\n",
       "      <td>1071</td>\n",
       "      <td>4.830205</td>\n",
       "    </tr>\n",
       "  </tbody>\n",
       "</table>\n",
       "</div>"
      ],
      "text/plain": [
       "   n_obs        time\n",
       "0  68579  114.599930\n",
       "1  34289   48.278867\n",
       "2  17144   36.271168\n",
       "3   8572   19.164595\n",
       "4   4286   10.929172\n",
       "5   2143    6.837259\n",
       "6   1071    4.830205"
      ]
     },
     "execution_count": 11,
     "metadata": {},
     "output_type": "execute_result"
    }
   ],
   "source": [
    "df = pd.DataFrame(data={'n_obs':num_samples,'time':times})\n",
    "df"
   ]
  },
  {
   "cell_type": "code",
   "execution_count": 12,
   "metadata": {
    "id": "HQpNjAcmxCd_"
   },
   "outputs": [
    {
     "data": {
      "text/plain": [
       "<AxesSubplot:xlabel='n_obs'>"
      ]
     },
     "execution_count": 12,
     "metadata": {},
     "output_type": "execute_result"
    },
    {
     "data": {
      "image/png": "[encoded data removed]",
      "text/plain": [
       "<Figure size 432x288 with 1 Axes>"
      ]
     },
     "metadata": {
      "needs_background": "light"
     },
     "output_type": "display_data"
    }
   ],
   "source": [
    "df.plot(x='n_obs',y='time')"
   ]
  },
  {
   "cell_type": "markdown",
   "metadata": {},
   "source": [
    "### R code"
   ]
  },
  {
   "cell_type": "markdown",
   "metadata": {},
   "source": [
    "```R\n",
    "library(SingleCellExperiment)\n",
    "library(cellassign)\n",
    "library(readr)\n",
    "\n",
    "pbmc <- readRDS(\"data/pbmc.rds\")\n",
    "marker_mat <- read_csv(\"data/FL_celltype.csv\")\n",
    "marker_mat <- marker_mat[-c(24),]\n",
    "col <- marker_mat[,1]\n",
    "rownames <- col[['Gene']]\n",
    "counts(pbmc) <- assay(pbmc, \"X\")\n",
    "mm <- data.matrix(marker_mat)\n",
    "mm <- mm[,-1]\n",
    "rownames(mm) <- rownames\n",
    "times <- c()\n",
    "n <- 68579\n",
    "i <- 1\n",
    "s <- colSums(counts(pbmc))\n",
    "while (n > 1000){\n",
    "ptm <- proc.time()\n",
    "fit <- cellassign(exprs_obj = pbmc[rownames,1:n], \n",
    "                  marker_gene_info = mm,\n",
    "                  s=s[1:n],\n",
    "                  learning_rate = 1e-2, \n",
    "                  shrinkage = TRUE,\n",
    "                  verbose = TRUE)\n",
    "times[i] <- proc.time() - ptm\n",
    "i <- i + 1\n",
    "n <- n %/% 2\n",
    "}\n",
    "df <- data.frame(counts = counts, times = times)\n",
    "write.csv(df, \"data/cell_assign_r_runtime.csv\")\n",
    "```"
   ]
  }
 ],
 "metadata": {
  "accelerator": "GPU",
  "colab": {
   "name": "benchmarking.ipynb",
   "provenance": []
  },
  "kernelspec": {
   "display_name": "scvi-tools-paper",
   "language": "python",
   "name": "scvi-tools-paper"
  },
  "language_info": {
   "codemirror_mode": {
    "name": "ipython",
    "version": 3
   },
   "file_extension": ".py",
   "mimetype": "text/x-python",
   "name": "python",
   "nbconvert_exporter": "python",
   "pygments_lexer": "ipython3",
   "version": "3.8.3"
  }
 },
 "nbformat": 4,
 "nbformat_minor": 4
}
