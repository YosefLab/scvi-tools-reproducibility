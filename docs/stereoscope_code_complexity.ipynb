{
  "nbformat": 4,
  "nbformat_minor": 0,
  "metadata": {
    "colab": {
      "name": "stereoscope-code-complexity.ipynb",
      "provenance": [],
      "collapsed_sections": [],
      "toc_visible": true
    },
    "kernelspec": {
      "name": "python3",
      "display_name": "Python 3"
    },
    "language_info": {
      "name": "python"
    }
  },
  "cells": [
    {
      "cell_type": "markdown",
      "metadata": {
        "id": "ef-vf-lwP_gx"
      },
      "source": [
        "## Compute and parse metrics"
      ]
    },
    {
      "cell_type": "code",
      "metadata": {
        "colab": {
          "base_uri": "https://localhost:8080/"
        },
        "id": "QIlaANIaoDPQ",
        "outputId": "6f0508f5-c7d6-4daa-bb2a-6cc6bcf4fec3"
      },
      "source": [
        "!pip install radon"
      ],
      "execution_count": 1,
      "outputs": [
        {
          "output_type": "stream",
          "text": [
            "Collecting radon\n",
            "\u001b[?25l  Downloading https://files.pythonhosted.org/packages/b3/30/53685bac034654656a096a87a52f5e77667b2bb8ab02bcc9ab3a844af802/radon-4.5.0-py2.py3-none-any.whl (51kB)\n",
            "\r\u001b[K     |██████▍                         | 10kB 16.2MB/s eta 0:00:01\r\u001b[K     |████████████▊                   | 20kB 10.0MB/s eta 0:00:01\r\u001b[K     |███████████████████▏            | 30kB 8.1MB/s eta 0:00:01\r\u001b[K     |█████████████████████████▌      | 40kB 7.0MB/s eta 0:00:01\r\u001b[K     |███████████████████████████████▉| 51kB 4.5MB/s eta 0:00:01\r\u001b[K     |████████████████████████████████| 61kB 3.2MB/s \n",
            "\u001b[?25hCollecting mando<0.7,>=0.6\n",
            "  Downloading https://files.pythonhosted.org/packages/e6/cc/f6e25247c1493a654785e68cd975e479c311e99dafedd49ed17f8d300e0c/mando-0.6.4-py2.py3-none-any.whl\n",
            "Requirement already satisfied: future in /usr/local/lib/python3.7/dist-packages (from radon) (0.16.0)\n",
            "Collecting colorama>=0.4.1; python_version > \"3.4\"\n",
            "  Downloading https://files.pythonhosted.org/packages/44/98/5b86278fbbf250d239ae0ecb724f8572af1c91f4a11edf4d36a206189440/colorama-0.4.4-py2.py3-none-any.whl\n",
            "Requirement already satisfied: six in /usr/local/lib/python3.7/dist-packages (from mando<0.7,>=0.6->radon) (1.15.0)\n",
            "Installing collected packages: mando, colorama, radon\n",
            "Successfully installed colorama-0.4.4 mando-0.6.4 radon-4.5.0\n"
          ],
          "name": "stdout"
        }
      ]
    },
    {
      "cell_type": "code",
      "metadata": {
        "colab": {
          "base_uri": "https://localhost:8080/"
        },
        "id": "ExiH3QRqoFDg",
        "outputId": "60fe7b2f-f3cc-498c-a5ff-6c103854ccde"
      },
      "source": [
        "!git clone https://github.com/almaan/stereoscope.git\n",
        "!git clone https://github.com/YosefLab/scvi-tools.git"
      ],
      "execution_count": 2,
      "outputs": [
        {
          "output_type": "stream",
          "text": [
            "Cloning into 'stereoscope'...\n",
            "remote: Enumerating objects: 288, done.\u001b[K\n",
            "remote: Counting objects: 100% (288/288), done.\u001b[K\n",
            "remote: Compressing objects: 100% (211/211), done.\u001b[K\n",
            "remote: Total 596 (delta 156), reused 194 (delta 74), pack-reused 308\u001b[K\n",
            "Receiving objects: 100% (596/596), 57.61 MiB | 33.73 MiB/s, done.\n",
            "Resolving deltas: 100% (309/309), done.\n",
            "Cloning into 'scvi-tools'...\n",
            "remote: Enumerating objects: 370, done.\u001b[K\n",
            "remote: Counting objects: 100% (370/370), done.\u001b[K\n",
            "remote: Compressing objects: 100% (259/259), done.\u001b[K\n",
            "remote: Total 24193 (delta 219), reused 220 (delta 104), pack-reused 23823\u001b[K\n",
            "Receiving objects: 100% (24193/24193), 148.33 MiB | 29.92 MiB/s, done.\n",
            "Resolving deltas: 100% (17597/17597), done.\n"
          ],
          "name": "stdout"
        }
      ]
    },
    {
      "cell_type": "code",
      "metadata": {
        "id": "Mdbkb8z4Vo5W"
      },
      "source": [
        "!rm stereoscope/stsc/look.py"
      ],
      "execution_count": 3,
      "outputs": []
    },
    {
      "cell_type": "code",
      "metadata": {
        "id": "kV7xIFdLojNg"
      },
      "source": [
        "import radon\n",
        "import json\n",
        "import re\n"
      ],
      "execution_count": 4,
      "outputs": []
    },
    {
      "cell_type": "code",
      "metadata": {
        "id": "C5BtQyjQo8BM"
      },
      "source": [
        "!radon cc stereoscope/stsc/ -s -a  > orig_cc.txt\n",
        "!radon hal stereoscope/stsc/  > orig_hal.txt\n",
        "!radon raw stereoscope/stsc/  > orig_raw.txt"
      ],
      "execution_count": 5,
      "outputs": []
    },
    {
      "cell_type": "code",
      "metadata": {
        "id": "kE_wTBhQpF_q"
      },
      "source": [
        "!radon cc scvi-tools/scvi/external/stereoscope/ -s -a  > scvi_cc.txt\n",
        "!radon hal scvi-tools/scvi/external/stereoscope/  > scvi_hal.txt\n",
        "!radon raw scvi-tools/scvi/external/stereoscope/  > scvi_raw.txt"
      ],
      "execution_count": 6,
      "outputs": []
    },
    {
      "cell_type": "code",
      "metadata": {
        "id": "kOLyxfFfqc9p"
      },
      "source": [
        "with open(\"orig_raw.txt\") as f:\n",
        "  orig_total_sloc = 0\n",
        "  for line in f:\n",
        "    if ':' in line:\n",
        "      key, value = line.split(':')\n",
        "      value = ' '.join(value.split())\n",
        "      if key == \"    SLOC\":\n",
        "        orig_total_sloc += int(value)\n",
        "\n",
        "with open(\"scvi_raw.txt\") as f:\n",
        "  scvi_total_sloc = 0\n",
        "  for line in f:\n",
        "    if ':' in line:\n",
        "      key, value = line.split(':')\n",
        "      value = ' '.join(value.split())\n",
        "      if key == \"    SLOC\":\n",
        "        scvi_total_sloc += int(value)"
      ],
      "execution_count": 7,
      "outputs": []
    },
    {
      "cell_type": "code",
      "metadata": {
        "id": "98TK1g2YQZ1o"
      },
      "source": [
        "with open(\"orig_hal.txt\") as f:\n",
        "  orig_time = 0\n",
        "  orig_bugs = 0\n",
        "  for line in f:\n",
        "    key, value = line.split(':')\n",
        "    value = ' '.join(value.split())\n",
        "    if key == \"    time\":\n",
        "      orig_time += float(value)\n",
        "    if key == \"    bugs\":\n",
        "      orig_bugs += float(value)\n",
        "with open(\"scvi_hal.txt\") as f:\n",
        "  scvi_time = 0\n",
        "  scvi_bugs = 0\n",
        "  for line in f:\n",
        "    key, value = line.split(':')\n",
        "    value = ' '.join(value.split())\n",
        "    if key == \"    time\":\n",
        "      scvi_time += float(value)\n",
        "    if key == \"    bugs\":\n",
        "      scvi_bugs += float(value)\n"
      ],
      "execution_count": 8,
      "outputs": []
    },
    {
      "cell_type": "code",
      "metadata": {
        "id": "FsQXMPnFPzGI"
      },
      "source": [
        "with open('orig_cc.txt') as f:\n",
        "    for line in f:\n",
        "        pass\n",
        "    orig_avg_complexity = line\n",
        "with open('scvi_cc.txt') as f:\n",
        "    for line in f:\n",
        "        pass\n",
        "    scvi_avg_complexity = line"
      ],
      "execution_count": 9,
      "outputs": []
    },
    {
      "cell_type": "markdown",
      "metadata": {
        "id": "gxV5skwQPIcE"
      },
      "source": [
        "## Average complexity"
      ]
    },
    {
      "cell_type": "code",
      "metadata": {
        "colab": {
          "base_uri": "https://localhost:8080/"
        },
        "id": "uyg28fabPZ9O",
        "outputId": "5302e754-281a-4945-f527-71b71626e7c7"
      },
      "source": [
        "print (\"Original Stereoscope Implementation\", orig_avg_complexity)\n",
        "print (\"Scvi-tools Implementation\", scvi_avg_complexity)"
      ],
      "execution_count": 10,
      "outputs": [
        {
          "output_type": "stream",
          "text": [
            "Original Stereoscope Implementation Average complexity: A (2.875)\n",
            "\n",
            "Scvi-tools Implementation Average complexity: A (1.4230769230769231)\n",
            "\n"
          ],
          "name": "stdout"
        }
      ]
    },
    {
      "cell_type": "markdown",
      "metadata": {
        "id": "bkKmGXXvPBwF"
      },
      "source": [
        "## Sum of time"
      ]
    },
    {
      "cell_type": "code",
      "metadata": {
        "colab": {
          "base_uri": "https://localhost:8080/"
        },
        "id": "uYOyHZ5Fsq4b",
        "outputId": "76e93fa6-8a88-4ec3-b394-5e2980f3b310"
      },
      "source": [
        "print(\"Sum of time in original stereoscope implementation:\",orig_time)\n",
        "print(\"Sum of time in scvi-tools implementation:\",scvi_time)\n"
      ],
      "execution_count": 11,
      "outputs": [
        {
          "output_type": "stream",
          "text": [
            "Sum of time in original stereoscope implementation: 800.0500377165816\n",
            "Sum of time in scvi-tools implementation: 54.3024615601502\n"
          ],
          "name": "stdout"
        }
      ]
    },
    {
      "cell_type": "markdown",
      "metadata": {
        "id": "Xjd2w2zdPFTq"
      },
      "source": [
        "## Sum of bugs"
      ]
    },
    {
      "cell_type": "code",
      "metadata": {
        "colab": {
          "base_uri": "https://localhost:8080/"
        },
        "id": "qA_jCcvPPFnx",
        "outputId": "c0efc61e-d908-4931-c639-ddd1e00909a7"
      },
      "source": [
        "print(\"Sum of bugs in original stereoscope implementation:\",orig_bugs)\n",
        "print(\"Sum of bugs in scvi-tools implementation:\",scvi_bugs)"
      ],
      "execution_count": 12,
      "outputs": [
        {
          "output_type": "stream",
          "text": [
            "Sum of bugs in original stereoscope implementation: 0.7669894669699762\n",
            "Sum of bugs in scvi-tools implementation: 0.08709522640708889\n"
          ],
          "name": "stdout"
        }
      ]
    },
    {
      "cell_type": "markdown",
      "metadata": {
        "id": "LxXxqaaxPv3D"
      },
      "source": [
        "## Source lines of code"
      ]
    },
    {
      "cell_type": "code",
      "metadata": {
        "colab": {
          "base_uri": "https://localhost:8080/"
        },
        "id": "4O07e4fPPush",
        "outputId": "89ca3763-a997-46b0-fcdd-f78ec6ff1de5"
      },
      "source": [
        "print (\"Sum of SLOC in original stereoscope implementation:\", orig_total_sloc)\n",
        "print (\"Sum of SLOC in scvi-tools implementation:\", scvi_total_sloc)"
      ],
      "execution_count": 13,
      "outputs": [
        {
          "output_type": "stream",
          "text": [
            "Sum of SLOC in original stereoscope implementation: 1400\n",
            "Sum of SLOC in scvi-tools implementation: 291\n"
          ],
          "name": "stdout"
        }
      ]
    },
    {
      "cell_type": "markdown",
      "metadata": {
        "id": "ubTlRc53W_xU"
      },
      "source": [
        "## Plot"
      ]
    },
    {
      "cell_type": "code",
      "metadata": {
        "id": "nRH5rOQMZN-s"
      },
      "source": [
        "import seaborn as sns\n",
        "import pandas as pd\n",
        "import matplotlib.pyplot as plt\n",
        "plt.rcParams[\"svg.fonttype\"] = \"none\"\n",
        "plt.rcParams[\"pdf.fonttype\"] = 42\n",
        "plt.rcParams[\"savefig.transparent\"] = True\n",
        "\n",
        "sns.set_theme(style=\"whitegrid\")\n",
        "\n",
        "df = pd.DataFrame(index=[\"scvi-tools\", \"original\"], columns=[\"Complexity\", \"Halstead Time\", \"Halstead Bugs\", \"Source Lines\"])\n",
        "df.loc[\"scvi-tools\", \"Complexity\"] = float(scvi_avg_complexity.split(\"(\")[1].split(\")\")[0])\n",
        "df.loc[\"original\", \"Complexity\"] = float(orig_avg_complexity.split(\"(\")[1].split(\")\")[0])\n",
        "df.loc[\"scvi-tools\", \"Halstead Time\"] = scvi_time\n",
        "df.loc[\"original\", \"Halstead Time\"] = orig_time\n",
        "df.loc[\"scvi-tools\", \"Halstead Bugs\"] = scvi_bugs\n",
        "df.loc[\"original\", \"Halstead Bugs\"] = orig_bugs\n",
        "df.loc[\"scvi-tools\", \"Source Lines\"] = scvi_total_sloc\n",
        "df.loc[\"original\", \"Source Lines\"] = orig_total_sloc\n",
        "df[\"Implementation\"] = df.index.to_list()"
      ],
      "execution_count": 63,
      "outputs": []
    },
    {
      "cell_type": "code",
      "metadata": {
        "colab": {
          "base_uri": "https://localhost:8080/",
          "height": 112
        },
        "id": "Up24aGaVZQFN",
        "outputId": "109b673c-6b68-47be-f39f-f679e1152590"
      },
      "source": [
        "df"
      ],
      "execution_count": 64,
      "outputs": [
        {
          "output_type": "execute_result",
          "data": {
            "text/html": [
              "<div>\n",
              "<style scoped>\n",
              "    .dataframe tbody tr th:only-of-type {\n",
              "        vertical-align: middle;\n",
              "    }\n",
              "\n",
              "    .dataframe tbody tr th {\n",
              "        vertical-align: top;\n",
              "    }\n",
              "\n",
              "    .dataframe thead th {\n",
              "        text-align: right;\n",
              "    }\n",
              "</style>\n",
              "<table border=\"1\" class=\"dataframe\">\n",
              "  <thead>\n",
              "    <tr style=\"text-align: right;\">\n",
              "      <th></th>\n",
              "      <th>Complexity</th>\n",
              "      <th>Halstead Time</th>\n",
              "      <th>Halstead Bugs</th>\n",
              "      <th>Source Lines</th>\n",
              "      <th>Implementation</th>\n",
              "    </tr>\n",
              "  </thead>\n",
              "  <tbody>\n",
              "    <tr>\n",
              "      <th>scvi-tools</th>\n",
              "      <td>1.42308</td>\n",
              "      <td>54.3025</td>\n",
              "      <td>0.0870952</td>\n",
              "      <td>291</td>\n",
              "      <td>scvi-tools</td>\n",
              "    </tr>\n",
              "    <tr>\n",
              "      <th>original</th>\n",
              "      <td>2.875</td>\n",
              "      <td>800.05</td>\n",
              "      <td>0.766989</td>\n",
              "      <td>1400</td>\n",
              "      <td>original</td>\n",
              "    </tr>\n",
              "  </tbody>\n",
              "</table>\n",
              "</div>"
            ],
            "text/plain": [
              "           Complexity Halstead Time Halstead Bugs Source Lines Implementation\n",
              "scvi-tools    1.42308       54.3025     0.0870952          291     scvi-tools\n",
              "original        2.875        800.05      0.766989         1400       original"
            ]
          },
          "metadata": {
            "tags": []
          },
          "execution_count": 64
        }
      ]
    },
    {
      "cell_type": "code",
      "metadata": {
        "id": "SPecBF8TUJdi",
        "colab": {
          "base_uri": "https://localhost:8080/",
          "height": 172
        },
        "outputId": "c773301b-a102-4a14-9af0-d6d9914eb99d"
      },
      "source": [
        "# Make the PairGrid\n",
        "g = sns.PairGrid(df,\n",
        "                 x_vars=[\"Complexity\", \"Halstead Time\", \"Halstead Bugs\", \"Source Lines\"],\n",
        "                 y_vars=[\"Implementation\"],\n",
        "                 height=2, aspect=1.5)\n",
        "\n",
        "# Draw a dot plot using the stripplot function\n",
        "g.map(sns.stripplot, size=10, orient=\"h\", jitter=False,\n",
        "      palette=\"flare_r\", linewidth=1, edgecolor=\"w\")\n",
        "\n",
        "# Use the same x axis limits on all columns and add better labels\n",
        "# g.set(xlim=(0, 25), xlabel=\"Crashes\", ylabel=\"\")\n",
        "\n",
        "# # Use semantically meaningful titles for the columns\n",
        "titles = df.columns\n",
        "xlims = [(1, 3), (30, 900), (0, 1), (0, 1500)]\n",
        "\n",
        "for ax, title, xlim in zip(g.axes.flat, titles, xlims):\n",
        "\n",
        "    # Set a different title for each axes\n",
        "    ax.set(title=title)\n",
        "\n",
        "    ax.set_xlim(xlim)\n",
        "\n",
        "    # Make the grid horizontal instead of vertical\n",
        "    ax.xaxis.grid(False)\n",
        "    ax.yaxis.grid(True)\n",
        "\n",
        "sns.despine(left=True, bottom=True)\n",
        "plt.savefig(\"code_stats.pdf\", bbox_inches=\"tight\")"
      ],
      "execution_count": 65,
      "outputs": [
        {
          "output_type": "display_data",
          "data": {
            "image/png": "[encoded data removed]",
            "text/plain": [
              "<Figure size 864x144 with 4 Axes>"
            ]
          },
          "metadata": {
            "tags": []
          }
        }
      ]
    },
    {
      "cell_type": "code",
      "metadata": {
        "id": "riyGoZKVac6X"
      },
      "source": [
        ""
      ],
      "execution_count": 53,
      "outputs": []
    }
  ]
}