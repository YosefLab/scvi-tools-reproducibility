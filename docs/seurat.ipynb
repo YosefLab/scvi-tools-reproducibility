{
 "cells": [
  {
   "cell_type": "code",
   "execution_count": 1,
   "metadata": {},
   "outputs": [
    {
     "name": "stderr",
     "output_type": "stream",
     "text": [
      "Attaching SeuratObject\n",
      "\n"
     ]
    }
   ],
   "source": [
    "library(Seurat)"
   ]
  },
  {
   "cell_type": "code",
   "execution_count": 2,
   "metadata": {},
   "outputs": [],
   "source": [
    "dat <- readRDS('data/myoblast_regress.rds')"
   ]
  },
  {
   "cell_type": "code",
   "execution_count": 6,
   "metadata": {},
   "outputs": [
    {
     "data": {
      "text/plain": [
       "class: SingleCellExperiment \n",
       "dim: 3332 19885 \n",
       "metadata(2): cell_cycle_genes sex_genes\n",
       "assays(2): X counts\n",
       "rownames(3332): E(spl)m6-BFM Argk ... Tlk chn\n",
       "rowData names(0):\n",
       "colnames(19885): ACATGGTTCTCCCTGA-1.120H1 ACGTCAATCCTCCTAG-1.120H1 ...\n",
       "  GGAGCAACATCTATGG-1.96H2 TGCGTGGAGGGAACGG-1.96H2\n",
       "colData names(56): batch lncRNA.roX1 ... CycB B52\n",
       "reducedDimNames(0):\n",
       "altExpNames(0):"
      ]
     },
     "metadata": {},
     "output_type": "display_data"
    }
   ],
   "source": [
    "dat"
   ]
  },
  {
   "cell_type": "code",
   "execution_count": 7,
   "metadata": {},
   "outputs": [],
   "source": [
    "dat.seurat <- as.Seurat(dat, counts = \"counts\", data = \"X\")\n"
   ]
  },
  {
   "cell_type": "code",
   "execution_count": 8,
   "metadata": {},
   "outputs": [],
   "source": [
    "# split the dataset into a list of two seurat objects (stim and CTRL)\n",
    "dat.list <- SplitObject(dat.seurat, split.by = \"batch\")\n"
   ]
  },
  {
   "cell_type": "code",
   "execution_count": 9,
   "metadata": {},
   "outputs": [
    {
     "data": {
      "text/plain": [
       "$`120hr_1`\n",
       "An object of class Seurat \n",
       "3332 features across 5083 samples within 1 assay \n",
       "Active assay: RNA (3332 features, 0 variable features)\n",
       "\n",
       "$`120hr_2`\n",
       "An object of class Seurat \n",
       "3332 features across 4010 samples within 1 assay \n",
       "Active assay: RNA (3332 features, 0 variable features)\n",
       "\n",
       "$`96hr_1`\n",
       "An object of class Seurat \n",
       "3332 features across 4923 samples within 1 assay \n",
       "Active assay: RNA (3332 features, 0 variable features)\n",
       "\n",
       "$`96hr_2`\n",
       "An object of class Seurat \n",
       "3332 features across 5869 samples within 1 assay \n",
       "Active assay: RNA (3332 features, 0 variable features)\n"
      ]
     },
     "metadata": {},
     "output_type": "display_data"
    }
   ],
   "source": [
    "dat.list "
   ]
  },
  {
   "cell_type": "code",
   "execution_count": 10,
   "metadata": {},
   "outputs": [
    {
     "name": "stderr",
     "output_type": "stream",
     "text": [
      "No variable features found for object1 in the object.list. Running FindVariableFeatures ...\n",
      "\n",
      "No variable features found for object2 in the object.list. Running FindVariableFeatures ...\n",
      "\n",
      "No variable features found for object3 in the object.list. Running FindVariableFeatures ...\n",
      "\n",
      "No variable features found for object4 in the object.list. Running FindVariableFeatures ...\n",
      "\n"
     ]
    }
   ],
   "source": [
    "TOTAL_FEATURES <- nrow(dat.seurat)\n",
    "\n",
    "# select features that are repeatedly variable across datasets for integration\n",
    "features <- SelectIntegrationFeatures(object.list = dat.list,  fvf.nfeatures=TOTAL_FEATURES, nfeatures=TOTAL_FEATURES)"
   ]
  },
  {
   "cell_type": "code",
   "execution_count": 11,
   "metadata": {},
   "outputs": [
    {
     "name": "stderr",
     "output_type": "stream",
     "text": [
      "Scaling features for provided objects\n",
      "\n",
      "Finding all pairwise anchors\n",
      "\n",
      "Running CCA\n",
      "\n",
      "Merging objects\n",
      "\n",
      "Finding neighborhoods\n",
      "\n",
      "Finding anchors\n",
      "\n",
      "\tFound 14976 anchors\n",
      "\n",
      "Filtering anchors\n",
      "\n",
      "\tRetained 5238 anchors\n",
      "\n",
      "Running CCA\n",
      "\n",
      "Merging objects\n",
      "\n",
      "Finding neighborhoods\n",
      "\n",
      "Finding anchors\n",
      "\n",
      "\tFound 17398 anchors\n",
      "\n",
      "Filtering anchors\n",
      "\n",
      "\tRetained 4584 anchors\n",
      "\n",
      "Running CCA\n",
      "\n",
      "Merging objects\n",
      "\n",
      "Finding neighborhoods\n",
      "\n",
      "Finding anchors\n",
      "\n",
      "\tFound 15511 anchors\n",
      "\n",
      "Filtering anchors\n",
      "\n",
      "\tRetained 3806 anchors\n",
      "\n",
      "Running CCA\n",
      "\n",
      "Merging objects\n",
      "\n",
      "Finding neighborhoods\n",
      "\n",
      "Finding anchors\n",
      "\n",
      "\tFound 18738 anchors\n",
      "\n",
      "Filtering anchors\n",
      "\n",
      "\tRetained 4481 anchors\n",
      "\n",
      "Running CCA\n",
      "\n",
      "Merging objects\n",
      "\n",
      "Finding neighborhoods\n",
      "\n",
      "Finding anchors\n",
      "\n",
      "\tFound 16172 anchors\n",
      "\n",
      "Filtering anchors\n",
      "\n",
      "\tRetained 4649 anchors\n",
      "\n",
      "Running CCA\n",
      "\n",
      "Merging objects\n",
      "\n",
      "Finding neighborhoods\n",
      "\n",
      "Finding anchors\n",
      "\n",
      "\tFound 18437 anchors\n",
      "\n",
      "Filtering anchors\n",
      "\n",
      "\tRetained 5314 anchors\n",
      "\n"
     ]
    }
   ],
   "source": [
    "my.anchors <- FindIntegrationAnchors(object.list = dat.list, anchor.features = features)\n"
   ]
  },
  {
   "cell_type": "code",
   "execution_count": 12,
   "metadata": {},
   "outputs": [
    {
     "name": "stderr",
     "output_type": "stream",
     "text": [
      "Merging dataset 2 into 1\n",
      "\n",
      "Extracting anchors for merged samples\n",
      "\n",
      "Finding integration vectors\n",
      "\n",
      "Finding integration vector weights\n",
      "\n",
      "Integrating data\n",
      "\n",
      "Merging dataset 3 into 4\n",
      "\n",
      "Extracting anchors for merged samples\n",
      "\n",
      "Finding integration vectors\n",
      "\n",
      "Finding integration vector weights\n",
      "\n",
      "Integrating data\n",
      "\n",
      "Merging dataset 1 2 into 4 3\n",
      "\n",
      "Extracting anchors for merged samples\n",
      "\n",
      "Finding integration vectors\n",
      "\n",
      "Finding integration vector weights\n",
      "\n",
      "Integrating data\n",
      "\n"
     ]
    }
   ],
   "source": [
    "# this command creates an 'integrated' data assay\n",
    "my.combined <- IntegrateData(anchorset = my.anchors)"
   ]
  },
  {
   "cell_type": "code",
   "execution_count": 13,
   "metadata": {},
   "outputs": [],
   "source": [
    "DefaultAssay(my.combined) <- \"integrated\"\n",
    "\n",
    "# Run the standard workflow for visualization and clustering\n",
    "my.combined <- ScaleData(my.combined, verbose = FALSE)\n",
    "my.combined <- RunPCA(my.combined, npcs = 30, verbose = FALSE)"
   ]
  },
  {
   "cell_type": "code",
   "execution_count": 15,
   "metadata": {},
   "outputs": [],
   "source": [
    "pcs = Embeddings(object = my.combined, reduction = \"pca\")"
   ]
  },
  {
   "cell_type": "code",
   "execution_count": 16,
   "metadata": {},
   "outputs": [],
   "source": [
    "write.csv(pcs, 'myoblast_regressout_seurat_pca.csv')"
   ]
  },
  {
   "cell_type": "code",
   "execution_count": null,
   "metadata": {},
   "outputs": [],
   "source": []
  }
 ],
 "metadata": {
  "kernelspec": {
   "display_name": "R [conda env:scrna_py_r] *",
   "language": "R",
   "name": "conda-env-scrna_py_r-r"
  },
  "language_info": {
   "codemirror_mode": "r",
   "file_extension": ".r",
   "mimetype": "text/x-r-source",
   "name": "R",
   "pygments_lexer": "r",
   "version": "4.0.3"
  }
 },
 "nbformat": 4,
 "nbformat_minor": 4
}
