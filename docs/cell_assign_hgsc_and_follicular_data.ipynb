{
  "nbformat": 4,
  "nbformat_minor": 0,
  "metadata": {
    "colab": {
      "name": "cell_assign_hgsc_and_follicular_data.ipynb",
      "provenance": [],
      "collapsed_sections": [],
      "toc_visible": true
    },
    "kernelspec": {
      "name": "python3",
      "display_name": "Python 3"
    },
    "accelerator": "GPU"
  },
  "cells": [
    {
      "cell_type": "code",
      "metadata": {
        "id": "Rh0ZgljQ9wvX",
        "colab": {
          "base_uri": "https://localhost:8080/"
        },
        "outputId": "2de0dc68-a0ab-4095-c625-8de1bac96563"
      },
      "source": [
        "import sys\n",
        "IN_COLAB = \"google.colab\" in sys.modules\n",
        "!pip install --quiet scvi-tools[tutorials]==0.9.0"
      ],
      "execution_count": 1,
      "outputs": [
        {
          "output_type": "stream",
          "text": [
            "\u001b[K     |████████████████████████████████| 184kB 23.7MB/s \n",
            "\u001b[K     |████████████████████████████████| 829kB 41.8MB/s \n",
            "\u001b[K     |████████████████████████████████| 81kB 11.6MB/s \n",
            "\u001b[K     |████████████████████████████████| 122kB 50.5MB/s \n",
            "\u001b[K     |████████████████████████████████| 245kB 52.7MB/s \n",
            "\u001b[K     |████████████████████████████████| 634kB 55.9MB/s \n",
            "\u001b[K     |████████████████████████████████| 204kB 56.2MB/s \n",
            "\u001b[K     |████████████████████████████████| 2.4MB 50.8MB/s \n",
            "\u001b[K     |████████████████████████████████| 10.3MB 46.1MB/s \n",
            "\u001b[K     |████████████████████████████████| 51kB 8.2MB/s \n",
            "\u001b[K     |████████████████████████████████| 3.1MB 45.0MB/s \n",
            "\u001b[K     |████████████████████████████████| 8.7MB 28.9MB/s \n",
            "\u001b[K     |████████████████████████████████| 829kB 52.1MB/s \n",
            "\u001b[K     |████████████████████████████████| 276kB 57.4MB/s \n",
            "\u001b[K     |████████████████████████████████| 112kB 50.5MB/s \n",
            "\u001b[K     |████████████████████████████████| 51kB 8.3MB/s \n",
            "\u001b[K     |████████████████████████████████| 112kB 59.7MB/s \n",
            "\u001b[K     |████████████████████████████████| 1.3MB 48.0MB/s \n",
            "\u001b[K     |████████████████████████████████| 51kB 8.1MB/s \n",
            "\u001b[K     |████████████████████████████████| 71kB 10.2MB/s \n",
            "\u001b[K     |████████████████████████████████| 296kB 57.2MB/s \n",
            "\u001b[K     |████████████████████████████████| 143kB 62.2MB/s \n",
            "\u001b[?25h  Building wheel for loompy (setup.py) ... \u001b[?25l\u001b[?25hdone\n",
            "  Building wheel for future (setup.py) ... \u001b[?25l\u001b[?25hdone\n",
            "  Building wheel for PyYAML (setup.py) ... \u001b[?25l\u001b[?25hdone\n",
            "  Building wheel for sinfo (setup.py) ... \u001b[?25l\u001b[?25hdone\n",
            "  Building wheel for numpy-groupies (setup.py) ... \u001b[?25l\u001b[?25hdone\n"
          ],
          "name": "stdout"
        }
      ]
    },
    {
      "cell_type": "code",
      "metadata": {
        "colab": {
          "base_uri": "https://localhost:8080/",
          "height": 105
        },
        "id": "aXGMc9dCnvHx",
        "outputId": "2a433553-7df1-4688-fa50-1335897ff739"
      },
      "source": [
        "import gdown\n",
        "url = 'https://drive.google.com/uc?id=10l6m2KKKioCZnQlRHomheappHh-jTFmx'\n",
        "output = 'sce_follicular_annotated_final.h5ad'\n",
        "gdown.download(url, output, quiet=False)"
      ],
      "execution_count": 2,
      "outputs": [
        {
          "output_type": "stream",
          "text": [
            "Downloading...\n",
            "From: https://drive.google.com/uc?id=10l6m2KKKioCZnQlRHomheappHh-jTFmx\n",
            "To: /content/sce_follicular_annotated_final.h5ad\n",
            "83.0MB [00:01, 57.0MB/s]\n"
          ],
          "name": "stderr"
        },
        {
          "output_type": "execute_result",
          "data": {
            "application/vnd.google.colaboratory.intrinsic+json": {
              "type": "string"
            },
            "text/plain": [
              "'sce_follicular_annotated_final.h5ad'"
            ]
          },
          "metadata": {
            "tags": []
          },
          "execution_count": 2
        }
      ]
    },
    {
      "cell_type": "code",
      "metadata": {
        "colab": {
          "base_uri": "https://localhost:8080/",
          "height": 105
        },
        "id": "HyXKAFFxoFGC",
        "outputId": "b38ad7fd-a753-471b-ee00-5ef13fbea453"
      },
      "source": [
        "url = 'https://drive.google.com/uc?id=1Pae7VEcoZbKRvtllGAEWG4SOLWSjjtCO'\n",
        "output = 'sce_hgsc_annotated_final.h5ad'\n",
        "gdown.download(url, output, quiet=False)"
      ],
      "execution_count": 3,
      "outputs": [
        {
          "output_type": "stream",
          "text": [
            "Downloading...\n",
            "From: https://drive.google.com/uc?id=1Pae7VEcoZbKRvtllGAEWG4SOLWSjjtCO\n",
            "To: /content/sce_hgsc_annotated_final.h5ad\n",
            "110MB [00:01, 79.4MB/s] \n"
          ],
          "name": "stderr"
        },
        {
          "output_type": "execute_result",
          "data": {
            "application/vnd.google.colaboratory.intrinsic+json": {
              "type": "string"
            },
            "text/plain": [
              "'sce_hgsc_annotated_final.h5ad'"
            ]
          },
          "metadata": {
            "tags": []
          },
          "execution_count": 3
        }
      ]
    },
    {
      "cell_type": "code",
      "metadata": {
        "colab": {
          "base_uri": "https://localhost:8080/",
          "height": 175
        },
        "id": "GmWZ4qXWqd9K",
        "outputId": "afcec623-4530-427d-8c4b-aca7364a6d73"
      },
      "source": [
        "url = 'https://drive.google.com/uc?id=1Mk5uPdnPC4IMRnuG5N4uFvypT8hPdJ74'\n",
        "output = 'HGSC_celltype.csv'\n",
        "gdown.download(url, output, quiet=False)\n",
        "\n",
        "url = 'https://drive.google.com/uc?id=1tJSOI9ve0i78WmszMLx2ul8F8tGycBTd'\n",
        "output = 'FL_celltype.csv'\n",
        "gdown.download(url, output, quiet=False)"
      ],
      "execution_count": 4,
      "outputs": [
        {
          "output_type": "stream",
          "text": [
            "Downloading...\n",
            "From: https://drive.google.com/uc?id=1Mk5uPdnPC4IMRnuG5N4uFvypT8hPdJ74\n",
            "To: /content/HGSC_celltype.csv\n",
            "100%|██████████| 1.16k/1.16k [00:00<00:00, 1.98MB/s]\n",
            "Downloading...\n",
            "From: https://drive.google.com/uc?id=1tJSOI9ve0i78WmszMLx2ul8F8tGycBTd\n",
            "To: /content/FL_celltype.csv\n",
            "100%|██████████| 446/446 [00:00<00:00, 890kB/s]\n"
          ],
          "name": "stderr"
        },
        {
          "output_type": "execute_result",
          "data": {
            "application/vnd.google.colaboratory.intrinsic+json": {
              "type": "string"
            },
            "text/plain": [
              "'FL_celltype.csv'"
            ]
          },
          "metadata": {
            "tags": []
          },
          "execution_count": 4
        }
      ]
    },
    {
      "cell_type": "code",
      "metadata": {
        "id": "rG27dGXbYxc0"
      },
      "source": [
        "import scvi\n",
        "import scanpy as sc\n",
        "import pandas as pd\n",
        "import seaborn as sns\n",
        "import numpy as np\n",
        "import matplotlib.pyplot as plt\n",
        "\n",
        "scvi.settings.seed = 0"
      ],
      "execution_count": 5,
      "outputs": []
    },
    {
      "cell_type": "code",
      "metadata": {
        "id": "5cEoOOLyVpD0"
      },
      "source": [
        "sns.reset_orig()\n",
        "sc.settings._vector_friendly = True\n",
        "# p9.theme_set(p9.theme_classic)\n",
        "plt.rcParams[\"svg.fonttype\"] = \"none\"\n",
        "plt.rcParams[\"pdf.fonttype\"] = 42\n",
        "plt.rcParams[\"savefig.transparent\"] = True\n",
        "plt.rcParams[\"figure.figsize\"] = (4, 4)\n",
        "\n",
        "plt.rcParams[\"axes.titlesize\"] = 15\n",
        "plt.rcParams[\"axes.titleweight\"] = 500\n",
        "plt.rcParams[\"axes.titlepad\"] = 8.0\n",
        "plt.rcParams[\"axes.labelsize\"] = 14\n",
        "plt.rcParams[\"axes.labelweight\"] = 500\n",
        "plt.rcParams[\"axes.linewidth\"] = 1.2\n",
        "plt.rcParams[\"axes.labelpad\"] = 6.0\n",
        "plt.rcParams[\"axes.spines.top\"] = False\n",
        "plt.rcParams[\"axes.spines.right\"] = False\n",
        "\n",
        "\n",
        "plt.rcParams[\"font.size\"] = 11\n",
        "# plt.rcParams['font.family'] = 'sans-serif'\n",
        "plt.rcParams['font.sans-serif'] = ['Helvetica', \"Computer Modern Sans Serif\", \"DejaVU Sans\"]\n",
        "plt.rcParams['font.weight'] = 500\n",
        "\n",
        "plt.rcParams['xtick.labelsize'] = 12\n",
        "plt.rcParams['xtick.minor.size'] = 1.375\n",
        "plt.rcParams['xtick.major.size'] = 2.75\n",
        "plt.rcParams['xtick.major.pad'] = 2\n",
        "plt.rcParams['xtick.minor.pad'] = 2\n",
        "\n",
        "plt.rcParams['ytick.labelsize'] = 12\n",
        "plt.rcParams['ytick.minor.size'] = 1.375\n",
        "plt.rcParams['ytick.major.size'] = 2.75\n",
        "plt.rcParams['ytick.major.pad'] = 2\n",
        "plt.rcParams['ytick.minor.pad'] = 2\n",
        "\n",
        "plt.rcParams[\"legend.fontsize\"] = 12\n",
        "plt.rcParams['legend.handlelength'] = 1.4\n",
        "plt.rcParams['legend.numpoints'] = 1\n",
        "plt.rcParams['legend.scatterpoints'] = 3\n",
        "plt.rcParams['legend.frameon'] = False\n",
        "\n",
        "plt.rcParams['lines.linewidth'] = 1.7\n",
        "\n",
        "DPI = 300"
      ],
      "execution_count": 6,
      "outputs": []
    },
    {
      "cell_type": "markdown",
      "metadata": {
        "id": "99HAWGeA3oNX"
      },
      "source": [
        "## Folicular"
      ]
    },
    {
      "cell_type": "code",
      "metadata": {
        "id": "3xrmMAG_zJ1P",
        "colab": {
          "base_uri": "https://localhost:8080/"
        },
        "outputId": "936b2c23-be66-460f-a2ab-706f8fe2a2a5"
      },
      "source": [
        "adata = sc.read(\"sce_follicular_annotated_final.h5ad\")\n",
        "adata.var_names_make_unique()\n",
        "adata.obs_names_make_unique()"
      ],
      "execution_count": 7,
      "outputs": [
        {
          "output_type": "stream",
          "text": [
            "/usr/local/lib/python3.7/dist-packages/anndata/_core/anndata.py:119: ImplicitModificationWarning: Transforming to str index.\n",
            "  warnings.warn(\"Transforming to str index.\", ImplicitModificationWarning)\n",
            "Observation names are not unique. To make them unique, call `.obs_names_make_unique`.\n",
            "Variable names are not unique. To make them unique, call `.var_names_make_unique`.\n"
          ],
          "name": "stderr"
        }
      ]
    },
    {
      "cell_type": "code",
      "metadata": {
        "id": "hD0dvYVI2jdY"
      },
      "source": [
        "marker_gene_mat = pd.read_csv('FL_celltype.csv', index_col=0)"
      ],
      "execution_count": 8,
      "outputs": []
    },
    {
      "cell_type": "code",
      "metadata": {
        "id": "nt-vtAHc7x65",
        "colab": {
          "base_uri": "https://localhost:8080/",
          "height": 237
        },
        "outputId": "560836c5-1675-4ffb-8ec9-83f92af4c2a0"
      },
      "source": [
        "marker_gene_mat.head()"
      ],
      "execution_count": 9,
      "outputs": [
        {
          "output_type": "execute_result",
          "data": {
            "text/html": [
              "<div>\n",
              "<style scoped>\n",
              "    .dataframe tbody tr th:only-of-type {\n",
              "        vertical-align: middle;\n",
              "    }\n",
              "\n",
              "    .dataframe tbody tr th {\n",
              "        vertical-align: top;\n",
              "    }\n",
              "\n",
              "    .dataframe thead th {\n",
              "        text-align: right;\n",
              "    }\n",
              "</style>\n",
              "<table border=\"1\" class=\"dataframe\">\n",
              "  <thead>\n",
              "    <tr style=\"text-align: right;\">\n",
              "      <th></th>\n",
              "      <th>B cells</th>\n",
              "      <th>Cytotoxic T cells</th>\n",
              "      <th>CD4 T cells</th>\n",
              "      <th>Tfh</th>\n",
              "      <th>other</th>\n",
              "    </tr>\n",
              "    <tr>\n",
              "      <th>Gene</th>\n",
              "      <th></th>\n",
              "      <th></th>\n",
              "      <th></th>\n",
              "      <th></th>\n",
              "      <th></th>\n",
              "    </tr>\n",
              "  </thead>\n",
              "  <tbody>\n",
              "    <tr>\n",
              "      <th>CCL5</th>\n",
              "      <td>0</td>\n",
              "      <td>1</td>\n",
              "      <td>0</td>\n",
              "      <td>0</td>\n",
              "      <td>0</td>\n",
              "    </tr>\n",
              "    <tr>\n",
              "      <th>CD19</th>\n",
              "      <td>1</td>\n",
              "      <td>0</td>\n",
              "      <td>0</td>\n",
              "      <td>0</td>\n",
              "      <td>0</td>\n",
              "    </tr>\n",
              "    <tr>\n",
              "      <th>CD2</th>\n",
              "      <td>0</td>\n",
              "      <td>1</td>\n",
              "      <td>1</td>\n",
              "      <td>1</td>\n",
              "      <td>0</td>\n",
              "    </tr>\n",
              "    <tr>\n",
              "      <th>CD3D</th>\n",
              "      <td>0</td>\n",
              "      <td>1</td>\n",
              "      <td>1</td>\n",
              "      <td>1</td>\n",
              "      <td>0</td>\n",
              "    </tr>\n",
              "    <tr>\n",
              "      <th>CD3E</th>\n",
              "      <td>0</td>\n",
              "      <td>1</td>\n",
              "      <td>1</td>\n",
              "      <td>1</td>\n",
              "      <td>0</td>\n",
              "    </tr>\n",
              "  </tbody>\n",
              "</table>\n",
              "</div>"
            ],
            "text/plain": [
              "      B cells  Cytotoxic T cells  CD4 T cells  Tfh  other\n",
              "Gene                                                     \n",
              "CCL5        0                  1            0    0      0\n",
              "CD19        1                  0            0    0      0\n",
              "CD2         0                  1            1    1      0\n",
              "CD3D        0                  1            1    1      0\n",
              "CD3E        0                  1            1    1      0"
            ]
          },
          "metadata": {
            "tags": []
          },
          "execution_count": 9
        }
      ]
    },
    {
      "cell_type": "code",
      "metadata": {
        "id": "ZsSsCSZnCH9q"
      },
      "source": [
        "bdata = adata[:, marker_gene_mat.index].copy()"
      ],
      "execution_count": 10,
      "outputs": []
    },
    {
      "cell_type": "code",
      "metadata": {
        "id": "jyKPEGuK8vRv",
        "colab": {
          "base_uri": "https://localhost:8080/"
        },
        "outputId": "58950689-39d1-4d12-af15-94e69e30bb8a"
      },
      "source": [
        "scvi.data.setup_anndata(bdata)"
      ],
      "execution_count": 11,
      "outputs": [
        {
          "output_type": "stream",
          "text": [
            "\u001b[34mINFO    \u001b[0m No batch_key inputted, assuming all cells are same batch                            \n",
            "\u001b[34mINFO    \u001b[0m No label_key inputted, assuming all cells have same label                           \n",
            "\u001b[34mINFO    \u001b[0m Using data from adata.X                                                             \n",
            "\u001b[34mINFO    \u001b[0m Computing library size prior per batch                                              \n",
            "\u001b[31mWARNING \u001b[0m This dataset has some empty cells, this might fail inference.Data should be filtered\n",
            "         with `scanpy.pp.filter_cells\u001b[1m(\u001b[0m\u001b[1m)\u001b[0m`                                                     \n",
            "\u001b[34mINFO    \u001b[0m Successfully registered anndata object containing \u001b[1;34m9156\u001b[0m cells, \u001b[1;34m24\u001b[0m vars, \u001b[1;34m1\u001b[0m batches, \u001b[1;34m1\u001b[0m \n",
            "         labels, and \u001b[1;34m0\u001b[0m proteins. Also registered \u001b[1;34m0\u001b[0m extra categorical covariates and \u001b[1;34m0\u001b[0m extra  \n",
            "         continuous covariates.                                                              \n",
            "\u001b[34mINFO    \u001b[0m Please do not further modify adata until model is trained.                          \n"
          ],
          "name": "stdout"
        }
      ]
    },
    {
      "cell_type": "code",
      "metadata": {
        "colab": {
          "base_uri": "https://localhost:8080/"
        },
        "id": "GoOSCv3w-1kz",
        "outputId": "ab9fde41-8286-480f-bb13-6b998c7c5705"
      },
      "source": [
        "from scvi.external import CellAssign\n",
        "model = CellAssign(bdata, marker_gene_mat, \"size_factor\")\n",
        "model.train()"
      ],
      "execution_count": 12,
      "outputs": [
        {
          "output_type": "stream",
          "text": [
            "GPU available: True, used: True\n",
            "TPU available: None, using: 0 TPU cores\n"
          ],
          "name": "stderr"
        },
        {
          "output_type": "stream",
          "text": [
            "Epoch 400/400: 100%|██████████| 400/400 [00:38<00:00, 10.50it/s, loss=19.9, v_num=1]\n"
          ],
          "name": "stdout"
        }
      ]
    },
    {
      "cell_type": "code",
      "metadata": {
        "id": "LgKjvavxwF5_",
        "colab": {
          "base_uri": "https://localhost:8080/",
          "height": 287
        },
        "outputId": "5709d92c-4c68-4fde-a1c3-50221c15d549"
      },
      "source": [
        "from matplotlib import pyplot as plt\n",
        "plt.plot(model.history[\"elbo_validation\"], label=\"validation\")\n",
        "plt.legend()"
      ],
      "execution_count": 13,
      "outputs": [
        {
          "output_type": "execute_result",
          "data": {
            "text/plain": [
              "<matplotlib.legend.Legend at 0x7ff7cd309bd0>"
            ]
          },
          "metadata": {
            "tags": []
          },
          "execution_count": 13
        },
        {
          "output_type": "display_data",
          "data": {
            "image/png": "[encoded data removed]",
            "text/plain": [
              "<Figure size 288x288 with 1 Axes>"
            ]
          },
          "metadata": {
            "tags": [],
            "needs_background": "light"
          }
        }
      ]
    },
    {
      "cell_type": "code",
      "metadata": {
        "id": "VbC-kp6I-5NM"
      },
      "source": [
        "predictions = model.predict()"
      ],
      "execution_count": 14,
      "outputs": []
    },
    {
      "cell_type": "code",
      "metadata": {
        "colab": {
          "base_uri": "https://localhost:8080/",
          "height": 1000
        },
        "id": "QO9voBGMPkGc",
        "outputId": "cf17f6a8-daf2-4f83-e5c9-b30c97c1f657"
      },
      "source": [
        "pred_vs_actual = pd.DataFrame(predictions.idxmax(axis=1).values,bdata.obs['celltype'].values).reset_index().rename(columns={\"index\":\"prediction\",0:\"actual\"})\n",
        "pred_vs_actual.loc[pred_vs_actual['prediction'] != pred_vs_actual['actual']]"
      ],
      "execution_count": 15,
      "outputs": [
        {
          "output_type": "execute_result",
          "data": {
            "text/html": [
              "<div>\n",
              "<style scoped>\n",
              "    .dataframe tbody tr th:only-of-type {\n",
              "        vertical-align: middle;\n",
              "    }\n",
              "\n",
              "    .dataframe tbody tr th {\n",
              "        vertical-align: top;\n",
              "    }\n",
              "\n",
              "    .dataframe thead th {\n",
              "        text-align: right;\n",
              "    }\n",
              "</style>\n",
              "<table border=\"1\" class=\"dataframe\">\n",
              "  <thead>\n",
              "    <tr style=\"text-align: right;\">\n",
              "      <th></th>\n",
              "      <th>prediction</th>\n",
              "      <th>actual</th>\n",
              "    </tr>\n",
              "  </thead>\n",
              "  <tbody>\n",
              "    <tr>\n",
              "      <th>226</th>\n",
              "      <td>Tfh</td>\n",
              "      <td>CD4 T cells</td>\n",
              "    </tr>\n",
              "    <tr>\n",
              "      <th>247</th>\n",
              "      <td>Tfh</td>\n",
              "      <td>Cytotoxic T cells</td>\n",
              "    </tr>\n",
              "    <tr>\n",
              "      <th>267</th>\n",
              "      <td>Tfh</td>\n",
              "      <td>CD4 T cells</td>\n",
              "    </tr>\n",
              "    <tr>\n",
              "      <th>296</th>\n",
              "      <td>CD4 T cells</td>\n",
              "      <td>Tfh</td>\n",
              "    </tr>\n",
              "    <tr>\n",
              "      <th>301</th>\n",
              "      <td>Tfh</td>\n",
              "      <td>CD4 T cells</td>\n",
              "    </tr>\n",
              "    <tr>\n",
              "      <th>362</th>\n",
              "      <td>CD4 T cells</td>\n",
              "      <td>Cytotoxic T cells</td>\n",
              "    </tr>\n",
              "    <tr>\n",
              "      <th>462</th>\n",
              "      <td>CD4 T cells</td>\n",
              "      <td>Tfh</td>\n",
              "    </tr>\n",
              "    <tr>\n",
              "      <th>557</th>\n",
              "      <td>B cells</td>\n",
              "      <td>CD4 T cells</td>\n",
              "    </tr>\n",
              "    <tr>\n",
              "      <th>777</th>\n",
              "      <td>Tfh</td>\n",
              "      <td>CD4 T cells</td>\n",
              "    </tr>\n",
              "    <tr>\n",
              "      <th>960</th>\n",
              "      <td>Tfh</td>\n",
              "      <td>CD4 T cells</td>\n",
              "    </tr>\n",
              "    <tr>\n",
              "      <th>962</th>\n",
              "      <td>Tfh</td>\n",
              "      <td>CD4 T cells</td>\n",
              "    </tr>\n",
              "    <tr>\n",
              "      <th>1016</th>\n",
              "      <td>Tfh</td>\n",
              "      <td>CD4 T cells</td>\n",
              "    </tr>\n",
              "    <tr>\n",
              "      <th>1026</th>\n",
              "      <td>Tfh</td>\n",
              "      <td>CD4 T cells</td>\n",
              "    </tr>\n",
              "    <tr>\n",
              "      <th>1145</th>\n",
              "      <td>Tfh</td>\n",
              "      <td>Cytotoxic T cells</td>\n",
              "    </tr>\n",
              "    <tr>\n",
              "      <th>1221</th>\n",
              "      <td>B cells</td>\n",
              "      <td>CD4 T cells</td>\n",
              "    </tr>\n",
              "    <tr>\n",
              "      <th>1339</th>\n",
              "      <td>Cytotoxic T cells</td>\n",
              "      <td>CD4 T cells</td>\n",
              "    </tr>\n",
              "    <tr>\n",
              "      <th>1366</th>\n",
              "      <td>CD4 T cells</td>\n",
              "      <td>B cells</td>\n",
              "    </tr>\n",
              "    <tr>\n",
              "      <th>2129</th>\n",
              "      <td>Tfh</td>\n",
              "      <td>Cytotoxic T cells</td>\n",
              "    </tr>\n",
              "    <tr>\n",
              "      <th>3187</th>\n",
              "      <td>Tfh</td>\n",
              "      <td>Cytotoxic T cells</td>\n",
              "    </tr>\n",
              "    <tr>\n",
              "      <th>3636</th>\n",
              "      <td>Tfh</td>\n",
              "      <td>CD4 T cells</td>\n",
              "    </tr>\n",
              "    <tr>\n",
              "      <th>3976</th>\n",
              "      <td>Tfh</td>\n",
              "      <td>CD4 T cells</td>\n",
              "    </tr>\n",
              "    <tr>\n",
              "      <th>4142</th>\n",
              "      <td>Cytotoxic T cells</td>\n",
              "      <td>CD4 T cells</td>\n",
              "    </tr>\n",
              "    <tr>\n",
              "      <th>4224</th>\n",
              "      <td>CD4 T cells</td>\n",
              "      <td>B cells</td>\n",
              "    </tr>\n",
              "    <tr>\n",
              "      <th>4322</th>\n",
              "      <td>other</td>\n",
              "      <td>B cells</td>\n",
              "    </tr>\n",
              "    <tr>\n",
              "      <th>4335</th>\n",
              "      <td>other</td>\n",
              "      <td>B cells</td>\n",
              "    </tr>\n",
              "    <tr>\n",
              "      <th>4452</th>\n",
              "      <td>Cytotoxic T cells</td>\n",
              "      <td>Tfh</td>\n",
              "    </tr>\n",
              "    <tr>\n",
              "      <th>4718</th>\n",
              "      <td>Cytotoxic T cells</td>\n",
              "      <td>CD4 T cells</td>\n",
              "    </tr>\n",
              "    <tr>\n",
              "      <th>4821</th>\n",
              "      <td>CD4 T cells</td>\n",
              "      <td>Cytotoxic T cells</td>\n",
              "    </tr>\n",
              "    <tr>\n",
              "      <th>4980</th>\n",
              "      <td>other</td>\n",
              "      <td>B cells</td>\n",
              "    </tr>\n",
              "    <tr>\n",
              "      <th>5050</th>\n",
              "      <td>other</td>\n",
              "      <td>B cells</td>\n",
              "    </tr>\n",
              "    <tr>\n",
              "      <th>5085</th>\n",
              "      <td>CD4 T cells</td>\n",
              "      <td>Tfh</td>\n",
              "    </tr>\n",
              "    <tr>\n",
              "      <th>5291</th>\n",
              "      <td>CD4 T cells</td>\n",
              "      <td>Tfh</td>\n",
              "    </tr>\n",
              "    <tr>\n",
              "      <th>5449</th>\n",
              "      <td>other</td>\n",
              "      <td>B cells</td>\n",
              "    </tr>\n",
              "    <tr>\n",
              "      <th>5614</th>\n",
              "      <td>other</td>\n",
              "      <td>B cells</td>\n",
              "    </tr>\n",
              "    <tr>\n",
              "      <th>5640</th>\n",
              "      <td>other</td>\n",
              "      <td>B cells</td>\n",
              "    </tr>\n",
              "    <tr>\n",
              "      <th>5710</th>\n",
              "      <td>Cytotoxic T cells</td>\n",
              "      <td>Tfh</td>\n",
              "    </tr>\n",
              "    <tr>\n",
              "      <th>5788</th>\n",
              "      <td>other</td>\n",
              "      <td>B cells</td>\n",
              "    </tr>\n",
              "    <tr>\n",
              "      <th>5833</th>\n",
              "      <td>CD4 T cells</td>\n",
              "      <td>B cells</td>\n",
              "    </tr>\n",
              "    <tr>\n",
              "      <th>5962</th>\n",
              "      <td>other</td>\n",
              "      <td>B cells</td>\n",
              "    </tr>\n",
              "    <tr>\n",
              "      <th>6163</th>\n",
              "      <td>other</td>\n",
              "      <td>B cells</td>\n",
              "    </tr>\n",
              "    <tr>\n",
              "      <th>6217</th>\n",
              "      <td>CD4 T cells</td>\n",
              "      <td>Tfh</td>\n",
              "    </tr>\n",
              "    <tr>\n",
              "      <th>6270</th>\n",
              "      <td>other</td>\n",
              "      <td>B cells</td>\n",
              "    </tr>\n",
              "    <tr>\n",
              "      <th>6369</th>\n",
              "      <td>other</td>\n",
              "      <td>B cells</td>\n",
              "    </tr>\n",
              "    <tr>\n",
              "      <th>6450</th>\n",
              "      <td>Tfh</td>\n",
              "      <td>B cells</td>\n",
              "    </tr>\n",
              "    <tr>\n",
              "      <th>6707</th>\n",
              "      <td>CD4 T cells</td>\n",
              "      <td>Tfh</td>\n",
              "    </tr>\n",
              "    <tr>\n",
              "      <th>6790</th>\n",
              "      <td>CD4 T cells</td>\n",
              "      <td>B cells</td>\n",
              "    </tr>\n",
              "    <tr>\n",
              "      <th>6853</th>\n",
              "      <td>CD4 T cells</td>\n",
              "      <td>Tfh</td>\n",
              "    </tr>\n",
              "    <tr>\n",
              "      <th>7113</th>\n",
              "      <td>Tfh</td>\n",
              "      <td>B cells</td>\n",
              "    </tr>\n",
              "    <tr>\n",
              "      <th>7197</th>\n",
              "      <td>Tfh</td>\n",
              "      <td>B cells</td>\n",
              "    </tr>\n",
              "    <tr>\n",
              "      <th>7537</th>\n",
              "      <td>Tfh</td>\n",
              "      <td>CD4 T cells</td>\n",
              "    </tr>\n",
              "    <tr>\n",
              "      <th>7561</th>\n",
              "      <td>other</td>\n",
              "      <td>B cells</td>\n",
              "    </tr>\n",
              "    <tr>\n",
              "      <th>7655</th>\n",
              "      <td>CD4 T cells</td>\n",
              "      <td>B cells</td>\n",
              "    </tr>\n",
              "    <tr>\n",
              "      <th>8324</th>\n",
              "      <td>Cytotoxic T cells</td>\n",
              "      <td>B cells</td>\n",
              "    </tr>\n",
              "    <tr>\n",
              "      <th>8391</th>\n",
              "      <td>other</td>\n",
              "      <td>B cells</td>\n",
              "    </tr>\n",
              "  </tbody>\n",
              "</table>\n",
              "</div>"
            ],
            "text/plain": [
              "             prediction             actual\n",
              "226                 Tfh        CD4 T cells\n",
              "247                 Tfh  Cytotoxic T cells\n",
              "267                 Tfh        CD4 T cells\n",
              "296         CD4 T cells                Tfh\n",
              "301                 Tfh        CD4 T cells\n",
              "362         CD4 T cells  Cytotoxic T cells\n",
              "462         CD4 T cells                Tfh\n",
              "557             B cells        CD4 T cells\n",
              "777                 Tfh        CD4 T cells\n",
              "960                 Tfh        CD4 T cells\n",
              "962                 Tfh        CD4 T cells\n",
              "1016                Tfh        CD4 T cells\n",
              "1026                Tfh        CD4 T cells\n",
              "1145                Tfh  Cytotoxic T cells\n",
              "1221            B cells        CD4 T cells\n",
              "1339  Cytotoxic T cells        CD4 T cells\n",
              "1366        CD4 T cells            B cells\n",
              "2129                Tfh  Cytotoxic T cells\n",
              "3187                Tfh  Cytotoxic T cells\n",
              "3636                Tfh        CD4 T cells\n",
              "3976                Tfh        CD4 T cells\n",
              "4142  Cytotoxic T cells        CD4 T cells\n",
              "4224        CD4 T cells            B cells\n",
              "4322              other            B cells\n",
              "4335              other            B cells\n",
              "4452  Cytotoxic T cells                Tfh\n",
              "4718  Cytotoxic T cells        CD4 T cells\n",
              "4821        CD4 T cells  Cytotoxic T cells\n",
              "4980              other            B cells\n",
              "5050              other            B cells\n",
              "5085        CD4 T cells                Tfh\n",
              "5291        CD4 T cells                Tfh\n",
              "5449              other            B cells\n",
              "5614              other            B cells\n",
              "5640              other            B cells\n",
              "5710  Cytotoxic T cells                Tfh\n",
              "5788              other            B cells\n",
              "5833        CD4 T cells            B cells\n",
              "5962              other            B cells\n",
              "6163              other            B cells\n",
              "6217        CD4 T cells                Tfh\n",
              "6270              other            B cells\n",
              "6369              other            B cells\n",
              "6450                Tfh            B cells\n",
              "6707        CD4 T cells                Tfh\n",
              "6790        CD4 T cells            B cells\n",
              "6853        CD4 T cells                Tfh\n",
              "7113                Tfh            B cells\n",
              "7197                Tfh            B cells\n",
              "7537                Tfh        CD4 T cells\n",
              "7561              other            B cells\n",
              "7655        CD4 T cells            B cells\n",
              "8324  Cytotoxic T cells            B cells\n",
              "8391              other            B cells"
            ]
          },
          "metadata": {
            "tags": []
          },
          "execution_count": 15
        }
      ]
    },
    {
      "cell_type": "code",
      "metadata": {
        "id": "8S79mmil3ZMn",
        "colab": {
          "base_uri": "https://localhost:8080/",
          "height": 782
        },
        "outputId": "af0e1770-8412-4209-c4ee-e9cdac71536d"
      },
      "source": [
        "sns.clustermap(predictions, cmap=\"viridis\")"
      ],
      "execution_count": 16,
      "outputs": [
        {
          "output_type": "stream",
          "text": [
            "/usr/local/lib/python3.7/dist-packages/seaborn/matrix.py:649: UserWarning: Clustering large matrix with scipy. Installing `fastcluster` may give better performance.\n",
            "  warnings.warn(msg)\n"
          ],
          "name": "stderr"
        },
        {
          "output_type": "execute_result",
          "data": {
            "text/plain": [
              "<seaborn.matrix.ClusterGrid at 0x7ff7c46b2fd0>"
            ]
          },
          "metadata": {
            "tags": []
          },
          "execution_count": 16
        },
        {
          "output_type": "display_data",
          "data": {
            "image/png": "[encoded data removed]",
            "text/plain": [
              "<Figure size 720x720 with 4 Axes>"
            ]
          },
          "metadata": {
            "tags": [],
            "needs_background": "light"
          }
        }
      ]
    },
    {
      "cell_type": "code",
      "metadata": {
        "id": "oEWd5XnwC9tE"
      },
      "source": [
        "bdata.obs[\"scvi-tools predictions\"] = predictions.idxmax(axis=1).values"
      ],
      "execution_count": 17,
      "outputs": []
    },
    {
      "cell_type": "code",
      "metadata": {
        "id": "GMohUntlOMzl",
        "colab": {
          "base_uri": "https://localhost:8080/",
          "height": 273
        },
        "outputId": "26051c62-7caa-46a9-b2f5-e8434ddd45bf"
      },
      "source": [
        "fig = sc.pl.umap(\n",
        "    bdata,\n",
        "    color=[\"celltype\", \"scvi-tools predictions\"],\n",
        "    title=[\"Original predictions\", \"scvi-tools predictions\"],\n",
        "    frameon=False,\n",
        "    return_fig=True,\n",
        ")\n",
        "fig.savefig(\"cellassign_follicular.pdf\", bbox_inches=\"tight\", dpi=DPI)"
      ],
      "execution_count": 21,
      "outputs": [
        {
          "output_type": "display_data",
          "data": {
            "image/png": "[encoded data removed]",
            "text/plain": [
              "<Figure size 695.52x288 with 2 Axes>"
            ]
          },
          "metadata": {
            "tags": []
          }
        }
      ]
    },
    {
      "cell_type": "code",
      "metadata": {
        "colab": {
          "base_uri": "https://localhost:8080/",
          "height": 371
        },
        "id": "_7ffQriPW918",
        "outputId": "d865aacc-1920-477c-e954-81a7c8eda192"
      },
      "source": [
        "df = bdata.obs\n",
        "confusion_matrix = pd.crosstab(\n",
        "    df[\"scvi-tools predictions\"],\n",
        "    df[\"celltype\"],\n",
        "    rownames=[\"scvi-tools predictions\"],\n",
        "    colnames=[\"Original predictions\"],\n",
        ")\n",
        "confusion_matrix /= confusion_matrix.sum(1).ravel().reshape(-1, 1)\n",
        "fig, ax = plt.subplots(figsize=(5, 4))\n",
        "sns.heatmap(\n",
        "    confusion_matrix,\n",
        "    cmap=sns.diverging_palette(245, 320, s=60, as_cmap=True),\n",
        "    ax=ax,\n",
        "    square=True,\n",
        "    cbar_kws=dict(shrink=0.4, aspect=12),\n",
        ")\n",
        "fig.savefig(\"cellassign_cm_follicular.pdf\", dpi=DPI, bbox_inches=\"tight\")"
      ],
      "execution_count": 26,
      "outputs": [
        {
          "output_type": "display_data",
          "data": {
            "image/png": "[encoded data removed]",
            "text/plain": [
              "<Figure size 360x288 with 2 Axes>"
            ]
          },
          "metadata": {
            "tags": [],
            "needs_background": "light"
          }
        }
      ]
    },
    {
      "cell_type": "markdown",
      "metadata": {
        "id": "VMNNWSfJ3mLv"
      },
      "source": [
        "## HGSC"
      ]
    },
    {
      "cell_type": "code",
      "metadata": {
        "id": "5BoG-lDty1mR",
        "colab": {
          "base_uri": "https://localhost:8080/"
        },
        "outputId": "2db05fd8-5fc4-4d2b-cf6e-1bfc9e384422"
      },
      "source": [
        "hgsc_adata = scvi.data.read_h5ad(\"sce_hgsc_annotated_final.h5ad\")\n",
        "hgsc_adata.var_names_make_unique()\n",
        "hgsc_adata.obs_names_make_unique()"
      ],
      "execution_count": 27,
      "outputs": [
        {
          "output_type": "stream",
          "text": [
            "Observation names are not unique. To make them unique, call `.obs_names_make_unique`.\n",
            "Variable names are not unique. To make them unique, call `.var_names_make_unique`.\n"
          ],
          "name": "stderr"
        }
      ]
    },
    {
      "cell_type": "code",
      "metadata": {
        "id": "j0YVtIAmZhbl"
      },
      "source": [
        "marker_gene_mat_hgsc = pd.read_csv('HGSC_celltype.csv', index_col=0)"
      ],
      "execution_count": 28,
      "outputs": []
    },
    {
      "cell_type": "code",
      "metadata": {
        "id": "Ur_hisP3CR3f"
      },
      "source": [
        "hgsc_bdata = hgsc_adata[:, marker_gene_mat_hgsc.index].copy()"
      ],
      "execution_count": 29,
      "outputs": []
    },
    {
      "cell_type": "code",
      "metadata": {
        "colab": {
          "base_uri": "https://localhost:8080/"
        },
        "id": "SIvlQxoqZZNl",
        "outputId": "946456c0-5189-474e-c015-c870b1c575b3"
      },
      "source": [
        "scvi.data.setup_anndata(hgsc_bdata)"
      ],
      "execution_count": 30,
      "outputs": [
        {
          "output_type": "stream",
          "text": [
            "\u001b[34mINFO    \u001b[0m No batch_key inputted, assuming all cells are same batch                            \n",
            "\u001b[34mINFO    \u001b[0m No label_key inputted, assuming all cells have same label                           \n",
            "\u001b[34mINFO    \u001b[0m Using data from adata.X                                                             \n",
            "\u001b[34mINFO    \u001b[0m Computing library size prior per batch                                              \n",
            "\u001b[34mINFO    \u001b[0m Successfully registered anndata object containing \u001b[1;34m4848\u001b[0m cells, \u001b[1;34m41\u001b[0m vars, \u001b[1;34m1\u001b[0m batches, \u001b[1;34m1\u001b[0m \n",
            "         labels, and \u001b[1;34m0\u001b[0m proteins. Also registered \u001b[1;34m0\u001b[0m extra categorical covariates and \u001b[1;34m0\u001b[0m extra  \n",
            "         continuous covariates.                                                              \n",
            "\u001b[34mINFO    \u001b[0m Please do not further modify adata until model is trained.                          \n"
          ],
          "name": "stdout"
        }
      ]
    },
    {
      "cell_type": "code",
      "metadata": {
        "colab": {
          "base_uri": "https://localhost:8080/"
        },
        "id": "pTqyMyiIZkTp",
        "outputId": "5cc75ef2-41ed-47c9-ea71-92633d3e1dc1"
      },
      "source": [
        "from scvi.external import CellAssign\n",
        "model_hgsc = CellAssign(hgsc_bdata, marker_gene_mat_hgsc, \"size_factor\")\n",
        "model_hgsc.train()"
      ],
      "execution_count": 31,
      "outputs": [
        {
          "output_type": "stream",
          "text": [
            "GPU available: True, used: True\n",
            "TPU available: None, using: 0 TPU cores\n"
          ],
          "name": "stderr"
        },
        {
          "output_type": "stream",
          "text": [
            "Epoch 400/400: 100%|██████████| 400/400 [00:31<00:00, 12.74it/s, loss=40.9, v_num=1]\n"
          ],
          "name": "stdout"
        }
      ]
    },
    {
      "cell_type": "code",
      "metadata": {
        "colab": {
          "base_uri": "https://localhost:8080/",
          "height": 283
        },
        "id": "X9XINKre5B0x",
        "outputId": "95034c7f-9d15-428e-f887-e7c4be217284"
      },
      "source": [
        "from matplotlib import pyplot as plt\n",
        "plt.plot(model_hgsc.history[\"elbo_train\"], label=\"train\")\n",
        "plt.legend()"
      ],
      "execution_count": 32,
      "outputs": [
        {
          "output_type": "execute_result",
          "data": {
            "text/plain": [
              "<matplotlib.legend.Legend at 0x7ff76279cad0>"
            ]
          },
          "metadata": {
            "tags": []
          },
          "execution_count": 32
        },
        {
          "output_type": "display_data",
          "data": {
            "image/png": "[encoded data removed]",
            "text/plain": [
              "<Figure size 288x288 with 1 Axes>"
            ]
          },
          "metadata": {
            "tags": [],
            "needs_background": "light"
          }
        }
      ]
    },
    {
      "cell_type": "code",
      "metadata": {
        "id": "YP6smTqKZmEh"
      },
      "source": [
        "predictions_hgsc = model_hgsc.predict()"
      ],
      "execution_count": 33,
      "outputs": []
    },
    {
      "cell_type": "code",
      "metadata": {
        "colab": {
          "base_uri": "https://localhost:8080/",
          "height": 782
        },
        "id": "aGCcUed75Fzx",
        "outputId": "8299c1dd-a857-4351-c209-a8d3d57dc5b4"
      },
      "source": [
        "sns.clustermap(predictions_hgsc, cmap=\"viridis\")"
      ],
      "execution_count": 34,
      "outputs": [
        {
          "output_type": "stream",
          "text": [
            "/usr/local/lib/python3.7/dist-packages/seaborn/matrix.py:649: UserWarning: Clustering large matrix with scipy. Installing `fastcluster` may give better performance.\n",
            "  warnings.warn(msg)\n"
          ],
          "name": "stderr"
        },
        {
          "output_type": "execute_result",
          "data": {
            "text/plain": [
              "<seaborn.matrix.ClusterGrid at 0x7ff762583dd0>"
            ]
          },
          "metadata": {
            "tags": []
          },
          "execution_count": 34
        },
        {
          "output_type": "display_data",
          "data": {
            "image/png": "[encoded data removed]",
            "text/plain": [
              "<Figure size 720x720 with 4 Axes>"
            ]
          },
          "metadata": {
            "tags": [],
            "needs_background": "light"
          }
        }
      ]
    },
    {
      "cell_type": "code",
      "metadata": {
        "id": "FziKQsWo5Hk0"
      },
      "source": [
        "hgsc_bdata.obs[\"scvi-tools predictions\"] = predictions_hgsc.idxmax(axis=1).values"
      ],
      "execution_count": 35,
      "outputs": []
    },
    {
      "cell_type": "code",
      "metadata": {
        "colab": {
          "base_uri": "https://localhost:8080/",
          "height": 290
        },
        "id": "qt-XWSW55KZ8",
        "outputId": "bd32da39-7f73-4186-e94f-420fb0eaf3cc"
      },
      "source": [
        "fig = sc.pl.umap(\n",
        "    hgsc_bdata,\n",
        "    color=[\"celltype\", \"scvi-tools predictions\"],\n",
        "    title=[\"Original predictions\", \"scvi-tools predictions\"],\n",
        "    frameon=False,\n",
        "    return_fig=True,\n",
        ")\n",
        "fig.savefig(\"cellassign_hgsc.pdf\", bbox_inches=\"tight\", dpi=DPI)"
      ],
      "execution_count": 36,
      "outputs": [
        {
          "output_type": "stream",
          "text": [
            "... storing 'scvi-tools predictions' as categorical\n"
          ],
          "name": "stderr"
        },
        {
          "output_type": "display_data",
          "data": {
            "image/png": "[encoded data removed]",
            "text/plain": [
              "<Figure size 695.52x288 with 2 Axes>"
            ]
          },
          "metadata": {
            "tags": []
          }
        }
      ]
    },
    {
      "cell_type": "code",
      "metadata": {
        "id": "NmJubUCNAHEf",
        "colab": {
          "base_uri": "https://localhost:8080/",
          "height": 451
        },
        "outputId": "004cd8aa-af23-431e-a656-ba3e2cf7f659"
      },
      "source": [
        "df = hgsc_bdata.obs\n",
        "confusion_matrix = pd.crosstab(\n",
        "    df[\"scvi-tools predictions\"],\n",
        "    df[\"celltype\"],\n",
        "    rownames=[\"scvi-tools predictions\"],\n",
        "    colnames=[\"Original predictions\"],\n",
        ")\n",
        "confusion_matrix /= confusion_matrix.sum(1).ravel().reshape(-1, 1)\n",
        "fig, ax = plt.subplots(figsize=(5, 4))\n",
        "sns.heatmap(\n",
        "    confusion_matrix,\n",
        "    cmap=sns.diverging_palette(245, 320, s=60, as_cmap=True),\n",
        "    ax=ax,\n",
        "    square=True,\n",
        "    cbar_kws=dict(shrink=0.4, aspect=12),\n",
        ")\n",
        "fig.savefig(\"cellassign_cm_hgsc.pdf\", dpi=DPI, bbox_inches=\"tight\")"
      ],
      "execution_count": 37,
      "outputs": [
        {
          "output_type": "display_data",
          "data": {
            "image/png": "[encoded data removed]",
            "text/plain": [
              "<Figure size 360x288 with 2 Axes>"
            ]
          },
          "metadata": {
            "tags": [],
            "needs_background": "light"
          }
        }
      ]
    },
    {
      "cell_type": "code",
      "metadata": {
        "id": "YafWKUJsYYto"
      },
      "source": [
        ""
      ],
      "execution_count": null,
      "outputs": []
    }
  ]
}