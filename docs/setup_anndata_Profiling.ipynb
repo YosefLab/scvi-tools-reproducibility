{
  "nbformat": 4,
  "nbformat_minor": 0,
  "metadata": {
    "colab": {
      "name": "setup_anndata Profiling",
      "provenance": [],
      "collapsed_sections": []
    },
    "kernelspec": {
      "name": "python3",
      "display_name": "Python 3"
    },
    "language_info": {
      "name": "python"
    }
  },
  "cells": [
    {
      "cell_type": "markdown",
      "metadata": {
        "id": "SG06yHo5WRuM"
      },
      "source": [
        "# `setup_anndata` Profiling"
      ]
    },
    {
      "cell_type": "code",
      "metadata": {
        "id": "-sLqOKdiWU34",
        "colab": {
          "base_uri": "https://localhost:8080/"
        },
        "outputId": "7c12d8b1-0472-4d8d-8d33-7eabb9dc7e70"
      },
      "source": [
        "import sys\n",
        "\n",
        "#if branch is stable, will install via pypi, else will install from source\n",
        "branch = \"stable\"\n",
        "IN_COLAB = \"google.colab\" in sys.modules\n",
        "\n",
        "if IN_COLAB and branch == \"stable\":\n",
        "    !pip install --quiet scvi-tools[tutorials]\n",
        "elif IN_COLAB and branch != \"stable\":\n",
        "    !pip install --quiet --upgrade jsonschema\n",
        "    !pip install --quiet git+https://github.com/yoseflab/scvi-tools@$branch#egg=scvi-tools[tutorials]"
      ],
      "execution_count": 1,
      "outputs": [
        {
          "output_type": "stream",
          "name": "stdout",
          "text": [
            "\u001b[K     |████████████████████████████████| 231 kB 7.0 MB/s \n",
            "\u001b[K     |████████████████████████████████| 678 kB 34.3 MB/s \n",
            "\u001b[K     |████████████████████████████████| 212 kB 53.5 MB/s \n",
            "\u001b[K     |████████████████████████████████| 242 kB 55.1 MB/s \n",
            "\u001b[K     |████████████████████████████████| 127 kB 45.4 MB/s \n",
            "\u001b[K     |████████████████████████████████| 813 kB 30.9 MB/s \n",
            "\u001b[K     |████████████████████████████████| 1.4 MB 26.0 MB/s \n",
            "\u001b[K     |████████████████████████████████| 3.2 MB 20.9 MB/s \n",
            "\u001b[K     |████████████████████████████████| 2.0 MB 29.5 MB/s \n",
            "\u001b[K     |████████████████████████████████| 8.8 MB 21.7 MB/s \n",
            "\u001b[K     |████████████████████████████████| 41 kB 108 kB/s \n",
            "\u001b[K     |████████████████████████████████| 48 kB 4.7 MB/s \n",
            "\u001b[K     |████████████████████████████████| 282 kB 43.1 MB/s \n",
            "\u001b[K     |████████████████████████████████| 125 kB 48.1 MB/s \n",
            "\u001b[K     |████████████████████████████████| 636 kB 34.3 MB/s \n",
            "\u001b[K     |████████████████████████████████| 829 kB 43.3 MB/s \n",
            "\u001b[K     |████████████████████████████████| 1.3 MB 41.5 MB/s \n",
            "\u001b[K     |████████████████████████████████| 51 kB 5.1 MB/s \n",
            "\u001b[K     |████████████████████████████████| 80 kB 7.9 MB/s \n",
            "\u001b[K     |████████████████████████████████| 1.1 MB 34.3 MB/s \n",
            "\u001b[K     |████████████████████████████████| 271 kB 51.8 MB/s \n",
            "\u001b[K     |████████████████████████████████| 160 kB 59.1 MB/s \n",
            "\u001b[K     |████████████████████████████████| 63 kB 2.1 MB/s \n",
            "\u001b[?25h  Building wheel for docrep (setup.py) ... \u001b[?25l\u001b[?25hdone\n",
            "  Building wheel for loompy (setup.py) ... \u001b[?25l\u001b[?25hdone\n",
            "  Building wheel for future (setup.py) ... \u001b[?25l\u001b[?25hdone\n",
            "  Building wheel for umap-learn (setup.py) ... \u001b[?25l\u001b[?25hdone\n",
            "  Building wheel for pynndescent (setup.py) ... \u001b[?25l\u001b[?25hdone\n",
            "  Building wheel for numpy-groupies (setup.py) ... \u001b[?25l\u001b[?25hdone\n",
            "  Building wheel for sinfo (setup.py) ... \u001b[?25l\u001b[?25hdone\n"
          ]
        }
      ]
    },
    {
      "cell_type": "code",
      "metadata": {
        "colab": {
          "base_uri": "https://localhost:8080/"
        },
        "id": "Ud2o8SxuWZ8a",
        "outputId": "68138d90-512d-486e-d6df-45fabae6ff1e"
      },
      "source": [
        "!pip install memory_profiler"
      ],
      "execution_count": 2,
      "outputs": [
        {
          "output_type": "stream",
          "name": "stdout",
          "text": [
            "Collecting memory_profiler\n",
            "  Downloading memory_profiler-0.58.0.tar.gz (36 kB)\n",
            "Requirement already satisfied: psutil in /usr/local/lib/python3.7/dist-packages (from memory_profiler) (5.4.8)\n",
            "Building wheels for collected packages: memory-profiler\n",
            "  Building wheel for memory-profiler (setup.py) ... \u001b[?25l\u001b[?25hdone\n",
            "  Created wheel for memory-profiler: filename=memory_profiler-0.58.0-py3-none-any.whl size=30190 sha256=fe7322a0bf56ea99aca4b8f09ab51a67f9f4dab51425d9793606e68bdd1afbf3\n",
            "  Stored in directory: /root/.cache/pip/wheels/56/19/d5/8cad06661aec65a04a0d6785b1a5ad035cb645b1772a4a0882\n",
            "Successfully built memory-profiler\n",
            "Installing collected packages: memory-profiler\n",
            "Successfully installed memory-profiler-0.58.0\n"
          ]
        }
      ]
    },
    {
      "cell_type": "code",
      "metadata": {
        "colab": {
          "base_uri": "https://localhost:8080/"
        },
        "id": "1sFzX3xb43_D",
        "outputId": "70b7b780-955d-462d-ac32-266016d234bf"
      },
      "source": [
        "!pip install mplscience"
      ],
      "execution_count": 3,
      "outputs": [
        {
          "output_type": "stream",
          "name": "stdout",
          "text": [
            "Collecting mplscience\n",
            "  Downloading mplscience-0.0.5-py3-none-any.whl (4.8 kB)\n",
            "Requirement already satisfied: seaborn in /usr/local/lib/python3.7/dist-packages (from mplscience) (0.11.2)\n",
            "Requirement already satisfied: matplotlib in /usr/local/lib/python3.7/dist-packages (from mplscience) (3.2.2)\n",
            "Requirement already satisfied: importlib-metadata<2.0,>=1.0 in /usr/local/lib/python3.7/dist-packages (from mplscience) (1.7.0)\n",
            "Requirement already satisfied: zipp>=0.5 in /usr/local/lib/python3.7/dist-packages (from importlib-metadata<2.0,>=1.0->mplscience) (3.6.0)\n",
            "Requirement already satisfied: kiwisolver>=1.0.1 in /usr/local/lib/python3.7/dist-packages (from matplotlib->mplscience) (1.3.2)\n",
            "Requirement already satisfied: cycler>=0.10 in /usr/local/lib/python3.7/dist-packages (from matplotlib->mplscience) (0.10.0)\n",
            "Requirement already satisfied: pyparsing!=2.0.4,!=2.1.2,!=2.1.6,>=2.0.1 in /usr/local/lib/python3.7/dist-packages (from matplotlib->mplscience) (2.4.7)\n",
            "Requirement already satisfied: python-dateutil>=2.1 in /usr/local/lib/python3.7/dist-packages (from matplotlib->mplscience) (2.8.2)\n",
            "Requirement already satisfied: numpy>=1.11 in /usr/local/lib/python3.7/dist-packages (from matplotlib->mplscience) (1.19.5)\n",
            "Requirement already satisfied: six in /usr/local/lib/python3.7/dist-packages (from cycler>=0.10->matplotlib->mplscience) (1.15.0)\n",
            "Requirement already satisfied: scipy>=1.0 in /usr/local/lib/python3.7/dist-packages (from seaborn->mplscience) (1.4.1)\n",
            "Requirement already satisfied: pandas>=0.23 in /usr/local/lib/python3.7/dist-packages (from seaborn->mplscience) (1.1.5)\n",
            "Requirement already satisfied: pytz>=2017.2 in /usr/local/lib/python3.7/dist-packages (from pandas>=0.23->seaborn->mplscience) (2018.9)\n",
            "Installing collected packages: mplscience\n",
            "Successfully installed mplscience-0.0.5\n"
          ]
        }
      ]
    },
    {
      "cell_type": "markdown",
      "metadata": {
        "id": "viuUt-4YXHvK"
      },
      "source": [
        "## Imports"
      ]
    },
    {
      "cell_type": "code",
      "metadata": {
        "id": "VkQm35GfWmwn",
        "colab": {
          "base_uri": "https://localhost:8080/"
        },
        "outputId": "e2b94657-c6c8-4419-997c-1bebc1368312"
      },
      "source": [
        "import contextlib\n",
        "import os\n",
        "import sys\n",
        "import time\n",
        "\n",
        "import numpy as np\n",
        "import matplotlib.pyplot as plt\n",
        "from memory_profiler import memory_usage\n",
        "import mplscience\n",
        "import scvi\n",
        "\n",
        "%matplotlib inline"
      ],
      "execution_count": 4,
      "outputs": [
        {
          "output_type": "stream",
          "name": "stderr",
          "text": [
            "Global seed set to 0\n",
            "/usr/local/lib/python3.7/dist-packages/numba/np/ufunc/parallel.py:363: NumbaWarning: \u001b[1mThe TBB threading layer requires TBB version 2019.5 or later i.e., TBB_INTERFACE_VERSION >= 11005. Found TBB_INTERFACE_VERSION = 9107. The TBB threading layer is disabled.\u001b[0m\n",
            "  warnings.warn(problem)\n"
          ]
        }
      ]
    },
    {
      "cell_type": "markdown",
      "metadata": {
        "id": "I_gWUhbqXI6v"
      },
      "source": [
        "## Load Data"
      ]
    },
    {
      "cell_type": "code",
      "metadata": {
        "colab": {
          "base_uri": "https://localhost:8080/"
        },
        "id": "qtxRvmmTW8XB",
        "outputId": "0190c434-f0d7-46da-fce4-5c21f38122c7"
      },
      "source": [
        "full_adata = scvi.data.spleen_lymph_cite_seq(run_setup_anndata=False)"
      ],
      "execution_count": 5,
      "outputs": [
        {
          "output_type": "stream",
          "name": "stdout",
          "text": [
            "\u001b[34mINFO    \u001b[0m Downloading file at data/sln_111.h5ad                                               \n",
            "Downloading...: 100%|██████████| 66657/66657.0 [00:00<00:00, 90105.51it/s]\n",
            "\u001b[34mINFO    \u001b[0m Downloading file at data/sln_208.h5ad                                               \n",
            "Downloading...: 100%|██████████| 70490/70490.0 [00:00<00:00, 78964.05it/s]\n"
          ]
        },
        {
          "output_type": "stream",
          "name": "stderr",
          "text": [
            "Observation names are not unique. To make them unique, call `.obs_names_make_unique`.\n",
            "Observation names are not unique. To make them unique, call `.obs_names_make_unique`.\n"
          ]
        }
      ]
    },
    {
      "cell_type": "code",
      "metadata": {
        "colab": {
          "base_uri": "https://localhost:8080/"
        },
        "id": "6Ws2_zVhXw36",
        "outputId": "42eb5173-ca71-4c86-8d8f-063f38e34964"
      },
      "source": [
        "full_adata"
      ],
      "execution_count": 6,
      "outputs": [
        {
          "output_type": "execute_result",
          "data": {
            "text/plain": [
              "AnnData object with n_obs × n_vars = 30474 × 13553\n",
              "    obs: 'batch_indices', 'n_genes', 'percent_mito', 'leiden_subclusters', 'cell_types', 'tissue', 'batch'\n",
              "    obsm: 'isotypes_htos', 'protein_expression'"
            ]
          },
          "metadata": {},
          "execution_count": 6
        }
      ]
    },
    {
      "cell_type": "markdown",
      "metadata": {
        "id": "1oIkdyLUXjHG"
      },
      "source": [
        "## totalVI"
      ]
    },
    {
      "cell_type": "code",
      "metadata": {
        "colab": {
          "base_uri": "https://localhost:8080/"
        },
        "id": "CBmovTNJXMbR",
        "outputId": "24c9aab1-c60e-40a5-d72b-36fc8a7348a8"
      },
      "source": [
        "subset_sizes = [1e3, 2e3, 4e3, 8e3, 16e3, full_adata.n_obs]\n",
        "mem_usages = []\n",
        "mem_increments = []\n",
        "runtimes = []\n",
        "\n",
        "with open(os.devnull, mode=\"w\") as devnull:\n",
        "  for subset_size in subset_sizes:\n",
        "    idxs = np.arange(full_adata.n_obs)\n",
        "    np.random.shuffle(idxs)\n",
        "    subset_idxs = idxs[:int(subset_size)]\n",
        "    \n",
        "    mem_subset_adata = full_adata[subset_idxs].copy()\n",
        "    with contextlib.redirect_stdout(devnull):\n",
        "      starting_mem_adata = sys.getsizeof(mem_subset_adata)\n",
        "      mem_usages.append(memory_usage((scvi.model.TOTALVI.setup_anndata, (mem_subset_adata, \"protein_expression\"), dict(batch_key=\"batch\")), max_usage=True))\n",
        "      mem_increment_in_bytes = sys.getsizeof(mem_subset_adata) - starting_mem_adata\n",
        "      mem_increments.append(mem_increment_in_bytes / 1024 / 1024)\n",
        "    \n",
        "    runtime_subset_adata = full_adata[subset_idxs].copy()\n",
        "    with contextlib.redirect_stdout(devnull):\n",
        "      start = time.time()\n",
        "      scvi.model.TOTALVI.setup_anndata(runtime_subset_adata, \"protein_expression\", batch_key=\"batch\")\n",
        "      runtimes.append(time.time() - start)"
      ],
      "execution_count": 8,
      "outputs": [
        {
          "output_type": "stream",
          "name": "stderr",
          "text": [
            "Observation names are not unique. To make them unique, call `.obs_names_make_unique`.\n",
            "Observation names are not unique. To make them unique, call `.obs_names_make_unique`.\n",
            "Observation names are not unique. To make them unique, call `.obs_names_make_unique`.\n",
            "Observation names are not unique. To make them unique, call `.obs_names_make_unique`.\n",
            "Observation names are not unique. To make them unique, call `.obs_names_make_unique`.\n",
            "Observation names are not unique. To make them unique, call `.obs_names_make_unique`.\n"
          ]
        }
      ]
    },
    {
      "cell_type": "code",
      "metadata": {
        "id": "4Qs1U4b36jke"
      },
      "source": [
        "tmem = mem_increments[:]\n",
        "trun = runtimes[:]"
      ],
      "execution_count": 9,
      "outputs": []
    },
    {
      "cell_type": "code",
      "metadata": {
        "colab": {
          "base_uri": "https://localhost:8080/",
          "height": 291
        },
        "id": "Fx_gJdNmXoCL",
        "outputId": "d6d09e1d-fdb9-49f7-c754-3e106f8e31e2"
      },
      "source": [
        "with mplscience.style_context():\n",
        "  fig, (ax2, ax3) = plt.subplots(1, 2, figsize=(10, 4))\n",
        "\n",
        "  # ax1.plot(subset_sizes, np.array(mem_usages) / 1024, marker=\"o\")\n",
        "  # ax1.set_title(\"setup_anndata Memory Usage Profiling\")\n",
        "  # ax1.set_xlabel(\"Number of cells\")\n",
        "  # ax1.set_ylabel(\"Memory Usage (in GiB)\")\n",
        "  # ax1.set_ylim((0, 10))\n",
        "\n",
        "  ax2.plot(subset_sizes, trun, marker=\"o\")\n",
        "  # ax2.set_title(\"totalVI setup_anndata Runtime Profiling\")\n",
        "  ax2.set_xlabel(\"Number of cells\")\n",
        "  ax2.set_ylabel(\"Runtime (in s)\")\n",
        "  ax2.set_ylim((0, 5))\n",
        "\n",
        "  ax3.plot(subset_sizes, np.array(tmem) * 1024, marker=\"o\")\n",
        "  # ax3.set_title(\"totalVI setup_anndata Memory Profiling\")\n",
        "  ax3.set_xlabel(\"Number of cells\")\n",
        "  ax3.set_ylabel(\"Memory Increment (in KiB)\")\n",
        "  ax3.set_ylim((0, 100))\n",
        "\n",
        "  fig.savefig(\"totalVI_setup_anndata_profiling.pdf\", bbox_inches=\"tight\", dpi=300)"
      ],
      "execution_count": 10,
      "outputs": [
        {
          "output_type": "display_data",
          "data": {
            "image/png": "[encoded data removed]",
            "text/plain": [
              "<Figure size 720x288 with 2 Axes>"
            ]
          },
          "metadata": {
            "needs_background": "light"
          }
        }
      ]
    },
    {
      "cell_type": "markdown",
      "metadata": {
        "id": "cZ73IKaT5MQq"
      },
      "source": [
        "## scVI"
      ]
    },
    {
      "cell_type": "code",
      "metadata": {
        "id": "9vl19jNKcqsp",
        "colab": {
          "base_uri": "https://localhost:8080/"
        },
        "outputId": "ee098123-1650-48a3-efce-251aaed1ba94"
      },
      "source": [
        "subset_sizes = [1e3, 2e3, 4e3, 8e3, 16e3, full_adata.n_obs]\n",
        "mem_usages = []\n",
        "mem_increments = []\n",
        "runtimes = []\n",
        "\n",
        "with open(os.devnull, mode=\"w\") as devnull:\n",
        "  for subset_size in subset_sizes:\n",
        "    idxs = np.arange(full_adata.n_obs)\n",
        "    np.random.shuffle(idxs)\n",
        "    subset_idxs = idxs[:int(subset_size)]\n",
        "    \n",
        "    mem_subset_adata = full_adata[subset_idxs].copy()\n",
        "    with contextlib.redirect_stdout(devnull):\n",
        "      starting_mem_adata = sys.getsizeof(mem_subset_adata)\n",
        "      mem_usages.append(memory_usage((scvi.model.SCVI.setup_anndata, (mem_subset_adata,), dict(batch_key=\"batch\")), max_usage=True))\n",
        "      mem_increment_in_bytes = sys.getsizeof(mem_subset_adata) - starting_mem_adata\n",
        "      mem_increments.append(mem_increment_in_bytes / 1024 / 1024)\n",
        "    \n",
        "    runtime_subset_adata = full_adata[subset_idxs].copy()\n",
        "    with contextlib.redirect_stdout(devnull):\n",
        "      start = time.time()\n",
        "      scvi.model.SCVI.setup_anndata(runtime_subset_adata, batch_key=\"batch\")\n",
        "      runtimes.append(time.time() - start)"
      ],
      "execution_count": 12,
      "outputs": [
        {
          "output_type": "stream",
          "name": "stderr",
          "text": [
            "Observation names are not unique. To make them unique, call `.obs_names_make_unique`.\n",
            "Observation names are not unique. To make them unique, call `.obs_names_make_unique`.\n",
            "Observation names are not unique. To make them unique, call `.obs_names_make_unique`.\n",
            "Observation names are not unique. To make them unique, call `.obs_names_make_unique`.\n",
            "Observation names are not unique. To make them unique, call `.obs_names_make_unique`.\n",
            "Observation names are not unique. To make them unique, call `.obs_names_make_unique`.\n"
          ]
        }
      ]
    },
    {
      "cell_type": "code",
      "metadata": {
        "id": "dZP2nyYM6uvj"
      },
      "source": [
        "smem = mem_increments[:]\n",
        "srun = runtimes[:]"
      ],
      "execution_count": 13,
      "outputs": []
    },
    {
      "cell_type": "code",
      "metadata": {
        "colab": {
          "base_uri": "https://localhost:8080/",
          "height": 291
        },
        "id": "4bpInIOl5PXg",
        "outputId": "ba01f9b6-1d1a-46be-b1f3-2105a5afb26b"
      },
      "source": [
        "with mplscience.style_context():\n",
        "  fig, (ax2, ax3) = plt.subplots(1, 2, figsize=(10, 4)\n",
        "  )\n",
        "\n",
        "  # ax1.plot(subset_sizes, np.array(mem_usages) / 1024, marker=\"o\")\n",
        "  # ax1.set_title(\"setup_anndata Memory Usage Profiling\")\n",
        "  # ax1.set_xlabel(\"Number of cells\")\n",
        "  # ax1.set_ylabel(\"Memory Usage (in GiB)\")\n",
        "  # ax1.set_ylim((0, 10))\n",
        "\n",
        "  ax2.plot(subset_sizes, srun, marker=\"o\")\n",
        "  # ax2.set_title(\"scVI setup_anndata Runtime Profiling\")\n",
        "  ax2.set_xlabel(\"Number of cells\")\n",
        "  ax2.set_ylabel(\"Runtime (in s)\")\n",
        "  ax2.set_ylim((0, 5))\n",
        "\n",
        "  ax3.plot(subset_sizes, np.array(smem) * 1024, marker=\"o\")\n",
        "  # ax3.set_title(\"scVI setup_anndata Memory Profiling\")\n",
        "  ax3.set_xlabel(\"Number of cells\")\n",
        "  ax3.set_ylabel(\"Memory Increment (in KiB)\")\n",
        "  ax3.set_ylim((0, 100))\n",
        "\n",
        "  fig.savefig(\"scVI_setup_anndata_profiling.pdf\",  bbox_inches=\"tight\", dpi=300)"
      ],
      "execution_count": 16,
      "outputs": [
        {
          "output_type": "display_data",
          "data": {
            "image/png": "[encoded data removed]",
            "text/plain": [
              "<Figure size 720x288 with 2 Axes>"
            ]
          },
          "metadata": {
            "needs_background": "light"
          }
        }
      ]
    },
    {
      "cell_type": "code",
      "metadata": {
        "id": "eHA0fKK15Ttx"
      },
      "source": [
        ""
      ],
      "execution_count": null,
      "outputs": []
    }
  ]
}