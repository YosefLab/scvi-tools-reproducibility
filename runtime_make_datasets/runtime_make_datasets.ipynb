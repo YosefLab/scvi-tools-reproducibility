{
 "cells": [
  {
   "cell_type": "markdown",
   "id": "danish-miller",
   "metadata": {},
   "source": [
    "# Make datasets for runtime analysis\n",
    "\n",
    "We subsample the Heart cell atlas data at various intervals, add additional continuous covariates, and select the top 4000 genes"
   ]
  },
  {
   "cell_type": "code",
   "execution_count": 1,
   "id": "substantial-ready",
   "metadata": {},
   "outputs": [],
   "source": [
    "import scvi\n",
    "import anndata\n",
    "import numpy as np\n",
    "import pandas as pd\n",
    "import time\n",
    "import scanpy as sc\n"
   ]
  },
  {
   "cell_type": "code",
   "execution_count": 2,
   "id": "interesting-trigger",
   "metadata": {},
   "outputs": [],
   "source": [
    "# download data from: https://www.heartcellatlas.org/\n",
    "adata = anndata.read('../data/hca_raw.h5ad')"
   ]
  },
  {
   "cell_type": "code",
   "execution_count": 3,
   "id": "guilty-spectacular",
   "metadata": {},
   "outputs": [],
   "source": [
    "adata.layers['counts'] = adata.X.copy() # move count data into a layer\n",
    "sc.pp.normalize_total(adata, target_sum=1e4)\n",
    "sc.pp.log1p(adata) # log the data for better umap visualization later\n",
    "adata.raw = adata"
   ]
  },
  {
   "cell_type": "code",
   "execution_count": 4,
   "id": "recorded-lending",
   "metadata": {},
   "outputs": [],
   "source": [
    "cont_nuisance_cov = [\"percent_mito\", \"percent_ribo\"]"
   ]
  },
  {
   "cell_type": "code",
   "execution_count": 5,
   "id": "agreed-stewart",
   "metadata": {},
   "outputs": [],
   "source": [
    "# make 8 random nuisance covariates\n",
    "for i in range(8):\n",
    "    key = 'rand_noise_{}'.format(i)\n",
    "    adata.obs[key] = np.random.normal(size = adata.n_obs)\n",
    "    cont_nuisance_cov+=[key]"
   ]
  },
  {
   "cell_type": "code",
   "execution_count": 6,
   "id": "according-texas",
   "metadata": {},
   "outputs": [
    {
     "data": {
      "text/plain": [
       "['percent_mito',\n",
       " 'percent_ribo',\n",
       " 'rand_noise_0',\n",
       " 'rand_noise_1',\n",
       " 'rand_noise_2',\n",
       " 'rand_noise_3',\n",
       " 'rand_noise_4',\n",
       " 'rand_noise_5',\n",
       " 'rand_noise_6',\n",
       " 'rand_noise_7']"
      ]
     },
     "execution_count": 6,
     "metadata": {},
     "output_type": "execute_result"
    }
   ],
   "source": [
    "# all the continuous covariates\n",
    "cont_nuisance_cov"
   ]
  },
  {
   "cell_type": "code",
   "execution_count": 7,
   "id": "chinese-walker",
   "metadata": {},
   "outputs": [],
   "source": [
    "adata.write('hca_processed.h5ad')"
   ]
  },
  {
   "cell_type": "code",
   "execution_count": 28,
   "id": "collectible-medium",
   "metadata": {},
   "outputs": [
    {
     "name": "stdout",
     "output_type": "stream",
     "text": [
      "4000, 10, 5000,  4000\n",
      "\u001b[34mINFO    \u001b[0m No batch_key inputted, assuming all cells are same batch                            \n",
      "\u001b[34mINFO    \u001b[0m No label_key inputted, assuming all cells have same label                           \n",
      "\u001b[34mINFO    \u001b[0m Using data from adata.layers\u001b[1m[\u001b[0m\u001b[32m\"counts\"\u001b[0m\u001b[1m]\u001b[0m                                              \n",
      "\u001b[34mINFO    \u001b[0m Computing library size prior per batch                                              \n",
      "\u001b[34mINFO    \u001b[0m Successfully registered anndata object containing \u001b[1;34m5000\u001b[0m cells, \u001b[1;34m4000\u001b[0m vars, \u001b[1;34m1\u001b[0m batches, \n",
      "         \u001b[1;34m1\u001b[0m labels, and \u001b[1;34m0\u001b[0m proteins. Also registered \u001b[1;34m2\u001b[0m extra categorical covariates and \u001b[1;34m10\u001b[0m     \n",
      "         extra continuous covariates.                                                        \n",
      "\u001b[34mINFO    \u001b[0m Please do not further modify adata until model is trained.                          \n"
     ]
    },
    {
     "name": "stderr",
     "output_type": "stream",
     "text": [
      "/home/galen/.pyenv/versions/scvi-dev/lib/python3.8/site-packages/scanpy/preprocessing/_highly_variable_genes.py:144: FutureWarning: Slicing a positional slice with .loc is not supported, and will raise TypeError in a future version.  Use .loc with labels or .iloc with positions instead.\n",
      "  df.loc[: int(n_top_genes), 'highly_variable'] = True\n",
      "/home/galen/.pyenv/versions/scvi-dev/lib/python3.8/site-packages/pandas/core/arrays/categorical.py:2487: FutureWarning: The `inplace` parameter in pandas.Categorical.remove_unused_categories is deprecated and will be removed in a future version.\n",
      "  res = method(*args, **kwargs)\n",
      "... storing 'batch' as categorical\n"
     ]
    },
    {
     "name": "stdout",
     "output_type": "stream",
     "text": [
      "4000, 10, 10000,  4000\n",
      "\u001b[34mINFO    \u001b[0m No batch_key inputted, assuming all cells are same batch                            \n",
      "\u001b[34mINFO    \u001b[0m No label_key inputted, assuming all cells have same label                           \n",
      "\u001b[34mINFO    \u001b[0m Using data from adata.layers\u001b[1m[\u001b[0m\u001b[32m\"counts\"\u001b[0m\u001b[1m]\u001b[0m                                              \n",
      "\u001b[34mINFO    \u001b[0m Computing library size prior per batch                                              \n",
      "\u001b[34mINFO    \u001b[0m Successfully registered anndata object containing \u001b[1;34m10000\u001b[0m cells, \u001b[1;34m4000\u001b[0m vars, \u001b[1;34m1\u001b[0m batches,\n",
      "         \u001b[1;34m1\u001b[0m labels, and \u001b[1;34m0\u001b[0m proteins. Also registered \u001b[1;34m2\u001b[0m extra categorical covariates and \u001b[1;34m10\u001b[0m     \n",
      "         extra continuous covariates.                                                        \n",
      "\u001b[34mINFO    \u001b[0m Please do not further modify adata until model is trained.                          \n"
     ]
    },
    {
     "name": "stderr",
     "output_type": "stream",
     "text": [
      "/home/galen/.pyenv/versions/scvi-dev/lib/python3.8/site-packages/scanpy/preprocessing/_highly_variable_genes.py:144: FutureWarning: Slicing a positional slice with .loc is not supported, and will raise TypeError in a future version.  Use .loc with labels or .iloc with positions instead.\n",
      "  df.loc[: int(n_top_genes), 'highly_variable'] = True\n",
      "/home/galen/.pyenv/versions/scvi-dev/lib/python3.8/site-packages/pandas/core/arrays/categorical.py:2487: FutureWarning: The `inplace` parameter in pandas.Categorical.remove_unused_categories is deprecated and will be removed in a future version.\n",
      "  res = method(*args, **kwargs)\n",
      "... storing 'batch' as categorical\n"
     ]
    },
    {
     "name": "stdout",
     "output_type": "stream",
     "text": [
      "4000, 10, 20000,  4000\n",
      "\u001b[34mINFO    \u001b[0m No batch_key inputted, assuming all cells are same batch                            \n",
      "\u001b[34mINFO    \u001b[0m No label_key inputted, assuming all cells have same label                           \n",
      "\u001b[34mINFO    \u001b[0m Using data from adata.layers\u001b[1m[\u001b[0m\u001b[32m\"counts\"\u001b[0m\u001b[1m]\u001b[0m                                              \n"
     ]
    },
    {
     "name": "stderr",
     "output_type": "stream",
     "text": [
      "/home/galen/.pyenv/versions/scvi-dev/lib/python3.8/site-packages/scanpy/preprocessing/_highly_variable_genes.py:144: FutureWarning: Slicing a positional slice with .loc is not supported, and will raise TypeError in a future version.  Use .loc with labels or .iloc with positions instead.\n",
      "  df.loc[: int(n_top_genes), 'highly_variable'] = True\n"
     ]
    },
    {
     "name": "stdout",
     "output_type": "stream",
     "text": [
      "\u001b[34mINFO    \u001b[0m Computing library size prior per batch                                              \n",
      "\u001b[34mINFO    \u001b[0m Successfully registered anndata object containing \u001b[1;34m20000\u001b[0m cells, \u001b[1;34m4000\u001b[0m vars, \u001b[1;34m1\u001b[0m batches,\n",
      "         \u001b[1;34m1\u001b[0m labels, and \u001b[1;34m0\u001b[0m proteins. Also registered \u001b[1;34m2\u001b[0m extra categorical covariates and \u001b[1;34m10\u001b[0m     \n",
      "         extra continuous covariates.                                                        \n",
      "\u001b[34mINFO    \u001b[0m Please do not further modify adata until model is trained.                          \n"
     ]
    },
    {
     "name": "stderr",
     "output_type": "stream",
     "text": [
      "/home/galen/.pyenv/versions/scvi-dev/lib/python3.8/site-packages/pandas/core/arrays/categorical.py:2487: FutureWarning: The `inplace` parameter in pandas.Categorical.remove_unused_categories is deprecated and will be removed in a future version.\n",
      "  res = method(*args, **kwargs)\n",
      "... storing 'batch' as categorical\n",
      "/home/galen/.pyenv/versions/scvi-dev/lib/python3.8/site-packages/scanpy/preprocessing/_highly_variable_genes.py:144: FutureWarning: Slicing a positional slice with .loc is not supported, and will raise TypeError in a future version.  Use .loc with labels or .iloc with positions instead.\n",
      "  df.loc[: int(n_top_genes), 'highly_variable'] = True\n"
     ]
    },
    {
     "name": "stdout",
     "output_type": "stream",
     "text": [
      "4000, 10, 40000,  4000\n",
      "\u001b[34mINFO    \u001b[0m No batch_key inputted, assuming all cells are same batch                            \n",
      "\u001b[34mINFO    \u001b[0m No label_key inputted, assuming all cells have same label                           \n",
      "\u001b[34mINFO    \u001b[0m Using data from adata.layers\u001b[1m[\u001b[0m\u001b[32m\"counts\"\u001b[0m\u001b[1m]\u001b[0m                                              \n",
      "\u001b[34mINFO    \u001b[0m Computing library size prior per batch                                              \n",
      "\u001b[34mINFO    \u001b[0m Successfully registered anndata object containing \u001b[1;34m40000\u001b[0m cells, \u001b[1;34m4000\u001b[0m vars, \u001b[1;34m1\u001b[0m batches,\n",
      "         \u001b[1;34m1\u001b[0m labels, and \u001b[1;34m0\u001b[0m proteins. Also registered \u001b[1;34m2\u001b[0m extra categorical covariates and \u001b[1;34m10\u001b[0m     \n",
      "         extra continuous covariates.                                                        \n",
      "\u001b[34mINFO    \u001b[0m Please do not further modify adata until model is trained.                          \n"
     ]
    },
    {
     "name": "stderr",
     "output_type": "stream",
     "text": [
      "/home/galen/.pyenv/versions/scvi-dev/lib/python3.8/site-packages/pandas/core/arrays/categorical.py:2487: FutureWarning: The `inplace` parameter in pandas.Categorical.remove_unused_categories is deprecated and will be removed in a future version.\n",
      "  res = method(*args, **kwargs)\n",
      "... storing 'batch' as categorical\n",
      "/home/galen/.pyenv/versions/scvi-dev/lib/python3.8/site-packages/scanpy/preprocessing/_highly_variable_genes.py:144: FutureWarning: Slicing a positional slice with .loc is not supported, and will raise TypeError in a future version.  Use .loc with labels or .iloc with positions instead.\n",
      "  df.loc[: int(n_top_genes), 'highly_variable'] = True\n"
     ]
    },
    {
     "name": "stdout",
     "output_type": "stream",
     "text": [
      "4000, 10, 80000,  4000\n",
      "\u001b[34mINFO    \u001b[0m No batch_key inputted, assuming all cells are same batch                            \n",
      "\u001b[34mINFO    \u001b[0m No label_key inputted, assuming all cells have same label                           \n",
      "\u001b[34mINFO    \u001b[0m Using data from adata.layers\u001b[1m[\u001b[0m\u001b[32m\"counts\"\u001b[0m\u001b[1m]\u001b[0m                                              \n",
      "\u001b[34mINFO    \u001b[0m Computing library size prior per batch                                              \n",
      "\u001b[34mINFO    \u001b[0m Successfully registered anndata object containing \u001b[1;34m80000\u001b[0m cells, \u001b[1;34m4000\u001b[0m vars, \u001b[1;34m1\u001b[0m batches,\n",
      "         \u001b[1;34m1\u001b[0m labels, and \u001b[1;34m0\u001b[0m proteins. Also registered \u001b[1;34m2\u001b[0m extra categorical covariates and \u001b[1;34m10\u001b[0m     \n",
      "         extra continuous covariates.                                                        \n",
      "\u001b[34mINFO    \u001b[0m Please do not further modify adata until model is trained.                          \n"
     ]
    },
    {
     "name": "stderr",
     "output_type": "stream",
     "text": [
      "/home/galen/.pyenv/versions/scvi-dev/lib/python3.8/site-packages/pandas/core/arrays/categorical.py:2487: FutureWarning: The `inplace` parameter in pandas.Categorical.remove_unused_categories is deprecated and will be removed in a future version.\n",
      "  res = method(*args, **kwargs)\n",
      "... storing 'batch' as categorical\n",
      "/home/galen/.pyenv/versions/scvi-dev/lib/python3.8/site-packages/scanpy/preprocessing/_highly_variable_genes.py:144: FutureWarning: Slicing a positional slice with .loc is not supported, and will raise TypeError in a future version.  Use .loc with labels or .iloc with positions instead.\n",
      "  df.loc[: int(n_top_genes), 'highly_variable'] = True\n"
     ]
    },
    {
     "name": "stdout",
     "output_type": "stream",
     "text": [
      "4000, 10, 160000,  4000\n",
      "\u001b[34mINFO    \u001b[0m No batch_key inputted, assuming all cells are same batch                            \n",
      "\u001b[34mINFO    \u001b[0m No label_key inputted, assuming all cells have same label                           \n",
      "\u001b[34mINFO    \u001b[0m Using data from adata.layers\u001b[1m[\u001b[0m\u001b[32m\"counts\"\u001b[0m\u001b[1m]\u001b[0m                                              \n",
      "\u001b[34mINFO    \u001b[0m Computing library size prior per batch                                              \n"
     ]
    },
    {
     "name": "stderr",
     "output_type": "stream",
     "text": [
      "/home/galen/.pyenv/versions/scvi-dev/lib/python3.8/site-packages/pandas/core/arrays/categorical.py:2487: FutureWarning: The `inplace` parameter in pandas.Categorical.remove_unused_categories is deprecated and will be removed in a future version.\n",
      "  res = method(*args, **kwargs)\n"
     ]
    },
    {
     "name": "stdout",
     "output_type": "stream",
     "text": [
      "\u001b[34mINFO    \u001b[0m Successfully registered anndata object containing \u001b[1;34m160000\u001b[0m cells, \u001b[1;34m4000\u001b[0m vars, \u001b[1;34m1\u001b[0m        \n",
      "         batches, \u001b[1;34m1\u001b[0m labels, and \u001b[1;34m0\u001b[0m proteins. Also registered \u001b[1;34m2\u001b[0m extra categorical covariates   \n",
      "         and \u001b[1;34m10\u001b[0m extra continuous covariates.                                                 \n",
      "\u001b[34mINFO    \u001b[0m Please do not further modify adata until model is trained.                          \n"
     ]
    },
    {
     "name": "stderr",
     "output_type": "stream",
     "text": [
      "... storing 'batch' as categorical\n",
      "/home/galen/.pyenv/versions/scvi-dev/lib/python3.8/site-packages/scanpy/preprocessing/_highly_variable_genes.py:144: FutureWarning: Slicing a positional slice with .loc is not supported, and will raise TypeError in a future version.  Use .loc with labels or .iloc with positions instead.\n",
      "  df.loc[: int(n_top_genes), 'highly_variable'] = True\n"
     ]
    },
    {
     "name": "stdout",
     "output_type": "stream",
     "text": [
      "4000, 10, 320000,  4000\n",
      "\u001b[34mINFO    \u001b[0m No batch_key inputted, assuming all cells are same batch                            \n",
      "\u001b[34mINFO    \u001b[0m No label_key inputted, assuming all cells have same label                           \n",
      "\u001b[34mINFO    \u001b[0m Using data from adata.layers\u001b[1m[\u001b[0m\u001b[32m\"counts\"\u001b[0m\u001b[1m]\u001b[0m                                              \n",
      "\u001b[34mINFO    \u001b[0m Computing library size prior per batch                                              \n"
     ]
    },
    {
     "name": "stderr",
     "output_type": "stream",
     "text": [
      "/home/galen/.pyenv/versions/scvi-dev/lib/python3.8/site-packages/pandas/core/arrays/categorical.py:2487: FutureWarning: The `inplace` parameter in pandas.Categorical.remove_unused_categories is deprecated and will be removed in a future version.\n",
      "  res = method(*args, **kwargs)\n"
     ]
    },
    {
     "name": "stdout",
     "output_type": "stream",
     "text": [
      "\u001b[34mINFO    \u001b[0m Successfully registered anndata object containing \u001b[1;34m320000\u001b[0m cells, \u001b[1;34m4000\u001b[0m vars, \u001b[1;34m1\u001b[0m        \n",
      "         batches, \u001b[1;34m1\u001b[0m labels, and \u001b[1;34m0\u001b[0m proteins. Also registered \u001b[1;34m2\u001b[0m extra categorical covariates   \n",
      "         and \u001b[1;34m10\u001b[0m extra continuous covariates.                                                 \n",
      "\u001b[34mINFO    \u001b[0m Please do not further modify adata until model is trained.                          \n"
     ]
    },
    {
     "name": "stderr",
     "output_type": "stream",
     "text": [
      "... storing 'batch' as categorical\n",
      "/home/galen/.pyenv/versions/scvi-dev/lib/python3.8/site-packages/scanpy/preprocessing/_highly_variable_genes.py:144: FutureWarning: Slicing a positional slice with .loc is not supported, and will raise TypeError in a future version.  Use .loc with labels or .iloc with positions instead.\n",
      "  df.loc[: int(n_top_genes), 'highly_variable'] = True\n"
     ]
    },
    {
     "name": "stdout",
     "output_type": "stream",
     "text": [
      "4000, 10, 486134,  4000\n",
      "\u001b[34mINFO    \u001b[0m No batch_key inputted, assuming all cells are same batch                            \n",
      "\u001b[34mINFO    \u001b[0m No label_key inputted, assuming all cells have same label                           \n",
      "\u001b[34mINFO    \u001b[0m Using data from adata.layers\u001b[1m[\u001b[0m\u001b[32m\"counts\"\u001b[0m\u001b[1m]\u001b[0m                                              \n",
      "\u001b[34mINFO    \u001b[0m Computing library size prior per batch                                              \n"
     ]
    },
    {
     "name": "stderr",
     "output_type": "stream",
     "text": [
      "/home/galen/.pyenv/versions/scvi-dev/lib/python3.8/site-packages/pandas/core/arrays/categorical.py:2487: FutureWarning: The `inplace` parameter in pandas.Categorical.remove_unused_categories is deprecated and will be removed in a future version.\n",
      "  res = method(*args, **kwargs)\n"
     ]
    },
    {
     "name": "stdout",
     "output_type": "stream",
     "text": [
      "\u001b[34mINFO    \u001b[0m Successfully registered anndata object containing \u001b[1;34m486134\u001b[0m cells, \u001b[1;34m4000\u001b[0m vars, \u001b[1;34m1\u001b[0m        \n",
      "         batches, \u001b[1;34m1\u001b[0m labels, and \u001b[1;34m0\u001b[0m proteins. Also registered \u001b[1;34m2\u001b[0m extra categorical covariates   \n",
      "         and \u001b[1;34m10\u001b[0m extra continuous covariates.                                                 \n",
      "\u001b[34mINFO    \u001b[0m Please do not further modify adata until model is trained.                          \n"
     ]
    },
    {
     "name": "stderr",
     "output_type": "stream",
     "text": [
      "... storing 'batch' as categorical\n"
     ]
    }
   ],
   "source": [
    "n_obs = [5000, 10000, 20000, 40000, 80000,160000,320000,486134]\n",
    "n_covs = [10]\n",
    "n_vars = [4000]\n",
    "\n",
    "adata = anndata.read('hca_processed.h5ad')\n",
    "\n",
    "#for backed mode\n",
    "adata.strings_to_categoricals()\n",
    "del adata.raw\n",
    "\n",
    "for n_cov in n_covs:\n",
    "    for n_ob in n_obs:\n",
    "        for n_var in n_vars:\n",
    "            idx = np.random.choice(adata.n_obs,n_ob,replace=False)\n",
    "            tmp_adata = adata[idx].copy()\n",
    "            if 'batch' in tmp_adata.obs.keys():\n",
    "                del tmp_adata.obs['batch']\n",
    "            tmp_adata.obs['batch'] = ''\n",
    "            for cov in bbknn_covs:\n",
    "                tmp_adata.obs['batch'] = tmp_adata.obs['batch'].astype(str) + tmp_adata.obs[cov].astype(str)\n",
    "            \n",
    "            # if one of the batches is less than 3, bbknn will fail\n",
    "            while np.min(np.unique(tmp_adata.obs['batch'], return_counts=True)[1]) < 3:\n",
    "                idx = np.random.choice(adata.n_obs,n_ob,replace=False)\n",
    "                tmp_adata = adata[idx].copy()\n",
    "                if 'batch' in tmp_adata.obs.keys():\n",
    "                    del tmp_adata.obs['batch']\n",
    "                tmp_adata.obs['batch'] = ''\n",
    "                for cov in bbknn_covs:\n",
    "                    tmp_adata.obs['batch'] = tmp_adata.obs['batch'].astype(str) + tmp_adata.obs[cov].astype(str)\n",
    "            \n",
    "            sc.pp.highly_variable_genes(tmp_adata,\n",
    "                                        n_top_genes=n_var,\n",
    "                                        subset=True,\n",
    "                                        inplace=True,\n",
    "                                        flavor=\"seurat_v3\",\n",
    "                                        layer='counts',\n",
    "                                        batch_key=\"cell_source\",\n",
    "                                        )\n",
    "\n",
    "            message = '{}, {}, {}, '.format(n_var, n_cov, tmp_adata.n_obs)\n",
    "            \n",
    "            print(message, tmp_adata.n_vars)\n",
    "            scvi.data.setup_anndata(\n",
    "                tmp_adata,\n",
    "                categorical_covariate_keys=[\"cell_source\", \"donor\"],\n",
    "                layer=\"counts\",\n",
    "                continuous_covariate_keys=cont_nuisance_cov                \n",
    "            )\n",
    "            \n",
    "            adata_fn = '{}_{}_{}.h5ad'.format(n_cov, n_ob, n_var)\n",
    "\n",
    "            tmp_adata.write(adata_fn)\n",
    "            "
   ]
  },
  {
   "cell_type": "code",
   "execution_count": null,
   "id": "shaped-vancouver",
   "metadata": {},
   "outputs": [],
   "source": []
  }
 ],
 "metadata": {
  "kernelspec": {
   "display_name": "Python 3.8.3 64-bit ('scvi-dev': venv)",
   "language": "python",
   "name": "python38364bitscvidevvenv4fb90fe562ab4b5189ac0b527fd52a97"
  },
  "language_info": {
   "codemirror_mode": {
    "name": "ipython",
    "version": 3
   },
   "file_extension": ".py",
   "mimetype": "text/x-python",
   "name": "python",
   "nbconvert_exporter": "python",
   "pygments_lexer": "ipython3",
   "version": "3.8.3"
  }
 },
 "nbformat": 4,
 "nbformat_minor": 5
}
